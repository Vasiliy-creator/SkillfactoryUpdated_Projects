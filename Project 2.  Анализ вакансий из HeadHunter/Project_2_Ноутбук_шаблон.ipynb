{
 "cells": [
  {
   "cell_type": "markdown",
   "id": "42289889-bd57-434e-9637-d3e354756316",
   "metadata": {
    "id": "42289889-bd57-434e-9637-d3e354756316"
   },
   "source": [
    "<center> <img src = https://raw.githubusercontent.com/AndreyRysistov/DatasetsForPandas/main/hh%20label.jpg alt=\"drawing\" style=\"width:400px;\">"
   ]
  },
  {
   "cell_type": "markdown",
   "id": "829cb75b-f14e-4ba8-9195-7ba929a7d656",
   "metadata": {
    "id": "829cb75b-f14e-4ba8-9195-7ba929a7d656",
    "tags": []
   },
   "source": [
    "# <center> Проект: Анализ вакансий из HeadHunter\n",
    "   "
   ]
  },
  {
   "cell_type": "markdown",
   "id": "9b31d0f5",
   "metadata": {},
   "source": [
    "# Импорт библиотек и создание подключения"
   ]
  },
  {
   "cell_type": "code",
   "execution_count": 1,
   "id": "dccfde33-2452-43fb-a8a5-5c6ebc02a71d",
   "metadata": {
    "id": "dccfde33-2452-43fb-a8a5-5c6ebc02a71d"
   },
   "outputs": [],
   "source": [
    "import pandas as pd\n",
    "import psycopg2\n",
    "import requests # Импортируем библиотеку requests\n",
    "from io import StringIO\n",
    "from bs4 import BeautifulSoup"
   ]
  },
  {
   "cell_type": "code",
   "execution_count": 38,
   "id": "ac5959bd",
   "metadata": {},
   "outputs": [
    {
     "name": "stdout",
     "output_type": "stream",
     "text": [
      "2.0.3\n"
     ]
    }
   ],
   "source": [
    "print(pd.__version__)"
   ]
  },
  {
   "cell_type": "code",
   "execution_count": 80,
   "id": "3757b86a",
   "metadata": {},
   "outputs": [
    {
     "name": "stdout",
     "output_type": "stream",
     "text": [
      "Collecting html5lib\n",
      "  Obtaining dependency information for html5lib from https://files.pythonhosted.org/packages/6c/dd/a834df6482147d48e225a49515aabc28974ad5a4ca3215c18a882565b028/html5lib-1.1-py2.py3-none-any.whl.metadata\n",
      "  Downloading html5lib-1.1-py2.py3-none-any.whl.metadata (16 kB)\n",
      "Requirement already satisfied: six>=1.9 in c:\\users\\vas98\\anaconda3\\lib\\site-packages (from html5lib) (1.16.0)\n",
      "Requirement already satisfied: webencodings in c:\\users\\vas98\\anaconda3\\lib\\site-packages (from html5lib) (0.5.1)\n",
      "Downloading html5lib-1.1-py2.py3-none-any.whl (112 kB)\n",
      "   ---------------------------------------- 0.0/112.2 kB ? eta -:--:--\n",
      "   --- ------------------------------------ 10.2/112.2 kB ? eta -:--:--\n",
      "   -------------- ------------------------ 41.0/112.2 kB 393.8 kB/s eta 0:00:01\n",
      "   --------------------- ----------------- 61.4/112.2 kB 409.6 kB/s eta 0:00:01\n",
      "   ---------------------------------- --- 102.4/112.2 kB 587.0 kB/s eta 0:00:01\n",
      "   -------------------------------------- 112.2/112.2 kB 542.2 kB/s eta 0:00:00\n",
      "Installing collected packages: html5lib\n",
      "Successfully installed html5lib-1.1\n",
      "Note: you may need to restart the kernel to use updated packages.\n"
     ]
    }
   ],
   "source": [
    "pip install html5lib"
   ]
  },
  {
   "cell_type": "code",
   "execution_count": 4,
   "id": "oVKH4ehvf8Ay",
   "metadata": {
    "id": "oVKH4ehvf8Ay"
   },
   "outputs": [],
   "source": [
    "# вставьте сюда параметры подключения из юнита 1. Работа с базой данных из Python "
   ]
  },
  {
   "cell_type": "code",
   "execution_count": 2,
   "id": "G4X_q8KBf7SF",
   "metadata": {
    "id": "G4X_q8KBf7SF"
   },
   "outputs": [],
   "source": [
    "DBNAME = 'project_sql'\n",
    "USER = 'skillfactory'\n",
    "PASSWORD = 'cCkxxLVrDE8EbvjueeMedPKt'\n",
    "HOST = '84.201.134.129'\n",
    "PORT = 5432\n",
    "\n",
    "connection = psycopg2.connect(\n",
    "    dbname=DBNAME,\n",
    "    user=USER,\n",
    "    host=HOST,\n",
    "    password=PASSWORD,\n",
    "    port=PORT\n",
    ")"
   ]
  },
  {
   "cell_type": "code",
   "execution_count": 63,
   "id": "0ef654d3",
   "metadata": {},
   "outputs": [],
   "source": [
    "connection.close()"
   ]
  },
  {
   "cell_type": "markdown",
   "id": "0dc6476b-7a00-44f1-ac93-6e3baed33a29",
   "metadata": {
    "id": "0dc6476b-7a00-44f1-ac93-6e3baed33a29"
   },
   "source": [
    "# Юнит 3. Предварительный анализ данных"
   ]
  },
  {
   "cell_type": "markdown",
   "id": "889782b6-8d1c-410e-8920-e57f27917c64",
   "metadata": {
    "id": "889782b6-8d1c-410e-8920-e57f27917c64"
   },
   "source": [
    "1. Напишите запрос, который посчитает количество вакансий в нашей базе (вакансии находятся в таблице vacancies). "
   ]
  },
  {
   "cell_type": "code",
   "execution_count": 2,
   "id": "bc39e68e-ed02-4ee2-9235-7258a2f867a8",
   "metadata": {
    "id": "bc39e68e-ed02-4ee2-9235-7258a2f867a8"
   },
   "outputs": [],
   "source": [
    "# текст запроса\n",
    "query_3_1 = f'''\n",
    "                select count(*) count_all_vacancies \n",
    "                from public.vacancies\n",
    "            '''"
   ]
  },
  {
   "cell_type": "code",
   "execution_count": 41,
   "id": "7mAwtsk4hEHY",
   "metadata": {
    "id": "7mAwtsk4hEHY"
   },
   "outputs": [
    {
     "name": "stderr",
     "output_type": "stream",
     "text": [
      "C:\\Users\\vas98\\AppData\\Local\\Temp\\ipykernel_14864\\4180666677.py:2: UserWarning: pandas only supports SQLAlchemy connectable (engine/connection) or database string URI or sqlite3 DBAPI2 connection. Other DBAPI2 objects are not tested. Please consider using SQLAlchemy.\n",
      "  pd.read_sql(query_3_1, connection)\n"
     ]
    },
    {
     "data": {
      "text/html": [
       "<div>\n",
       "<style scoped>\n",
       "    .dataframe tbody tr th:only-of-type {\n",
       "        vertical-align: middle;\n",
       "    }\n",
       "\n",
       "    .dataframe tbody tr th {\n",
       "        vertical-align: top;\n",
       "    }\n",
       "\n",
       "    .dataframe thead th {\n",
       "        text-align: right;\n",
       "    }\n",
       "</style>\n",
       "<table border=\"1\" class=\"dataframe\">\n",
       "  <thead>\n",
       "    <tr style=\"text-align: right;\">\n",
       "      <th></th>\n",
       "      <th>count_all_vacancies</th>\n",
       "    </tr>\n",
       "  </thead>\n",
       "  <tbody>\n",
       "    <tr>\n",
       "      <th>0</th>\n",
       "      <td>49197</td>\n",
       "    </tr>\n",
       "  </tbody>\n",
       "</table>\n",
       "</div>"
      ],
      "text/plain": [
       "   count_all_vacancies\n",
       "0                49197"
      ]
     },
     "execution_count": 41,
     "metadata": {},
     "output_type": "execute_result"
    }
   ],
   "source": [
    "# результат запроса\n",
    "pd.read_sql(query_3_1, connection)"
   ]
  },
  {
   "cell_type": "markdown",
   "id": "b583485d-1f9e-494e-ada4-80ffff7c53d6",
   "metadata": {
    "id": "b583485d-1f9e-494e-ada4-80ffff7c53d6"
   },
   "source": [
    "2. Напишите запрос, который посчитает количество работодателей (таблица employers). "
   ]
  },
  {
   "cell_type": "code",
   "execution_count": 114,
   "id": "5408c52c-3407-4a63-b25b-1aafa2322d28",
   "metadata": {
    "id": "5408c52c-3407-4a63-b25b-1aafa2322d28"
   },
   "outputs": [],
   "source": [
    "# текст запроса\n",
    "query_3_2 = f'''\n",
    "                select count(id) count_employers \n",
    "                from public.employers\n",
    "            '''"
   ]
  },
  {
   "cell_type": "code",
   "execution_count": 115,
   "id": "jVL4eshKhdqc",
   "metadata": {
    "id": "jVL4eshKhdqc"
   },
   "outputs": [
    {
     "name": "stderr",
     "output_type": "stream",
     "text": [
      "C:\\Users\\vas98\\AppData\\Local\\Temp\\ipykernel_14864\\3969281328.py:2: UserWarning: pandas only supports SQLAlchemy connectable (engine/connection) or database string URI or sqlite3 DBAPI2 connection. Other DBAPI2 objects are not tested. Please consider using SQLAlchemy.\n",
      "  pd.read_sql(query_3_2, connection)\n"
     ]
    },
    {
     "data": {
      "text/html": [
       "<div>\n",
       "<style scoped>\n",
       "    .dataframe tbody tr th:only-of-type {\n",
       "        vertical-align: middle;\n",
       "    }\n",
       "\n",
       "    .dataframe tbody tr th {\n",
       "        vertical-align: top;\n",
       "    }\n",
       "\n",
       "    .dataframe thead th {\n",
       "        text-align: right;\n",
       "    }\n",
       "</style>\n",
       "<table border=\"1\" class=\"dataframe\">\n",
       "  <thead>\n",
       "    <tr style=\"text-align: right;\">\n",
       "      <th></th>\n",
       "      <th>count_employers</th>\n",
       "    </tr>\n",
       "  </thead>\n",
       "  <tbody>\n",
       "    <tr>\n",
       "      <th>0</th>\n",
       "      <td>23501</td>\n",
       "    </tr>\n",
       "  </tbody>\n",
       "</table>\n",
       "</div>"
      ],
      "text/plain": [
       "   count_employers\n",
       "0            23501"
      ]
     },
     "execution_count": 115,
     "metadata": {},
     "output_type": "execute_result"
    }
   ],
   "source": [
    "# результат запроса\n",
    "pd.read_sql(query_3_2, connection)"
   ]
  },
  {
   "cell_type": "markdown",
   "id": "a2bfff1f-c975-4bf6-84be-2185d79dcb76",
   "metadata": {
    "id": "a2bfff1f-c975-4bf6-84be-2185d79dcb76"
   },
   "source": [
    "3. Посчитате с помощью запроса количество регионов (таблица areas)."
   ]
  },
  {
   "cell_type": "code",
   "execution_count": 11,
   "id": "1m8QJwBYhey6",
   "metadata": {
    "id": "1m8QJwBYhey6"
   },
   "outputs": [],
   "source": [
    "# текст запроса\n",
    "query_3_3 = f'''\n",
    "                select count(id) count_areas \n",
    "                from public.areas\n",
    "            '''"
   ]
  },
  {
   "cell_type": "code",
   "execution_count": 12,
   "id": "EZsn9tlfhe7f",
   "metadata": {
    "id": "EZsn9tlfhe7f"
   },
   "outputs": [
    {
     "name": "stderr",
     "output_type": "stream",
     "text": [
      "C:\\Users\\vas98\\AppData\\Local\\Temp\\ipykernel_11176\\2899049411.py:2: UserWarning: pandas only supports SQLAlchemy connectable (engine/connection) or database string URI or sqlite3 DBAPI2 connection. Other DBAPI2 objects are not tested. Please consider using SQLAlchemy.\n",
      "  pd.read_sql(query_3_3, connection)\n"
     ]
    },
    {
     "data": {
      "text/html": [
       "<div>\n",
       "<style scoped>\n",
       "    .dataframe tbody tr th:only-of-type {\n",
       "        vertical-align: middle;\n",
       "    }\n",
       "\n",
       "    .dataframe tbody tr th {\n",
       "        vertical-align: top;\n",
       "    }\n",
       "\n",
       "    .dataframe thead th {\n",
       "        text-align: right;\n",
       "    }\n",
       "</style>\n",
       "<table border=\"1\" class=\"dataframe\">\n",
       "  <thead>\n",
       "    <tr style=\"text-align: right;\">\n",
       "      <th></th>\n",
       "      <th>count_areas</th>\n",
       "    </tr>\n",
       "  </thead>\n",
       "  <tbody>\n",
       "    <tr>\n",
       "      <th>0</th>\n",
       "      <td>1362</td>\n",
       "    </tr>\n",
       "  </tbody>\n",
       "</table>\n",
       "</div>"
      ],
      "text/plain": [
       "   count_areas\n",
       "0         1362"
      ]
     },
     "execution_count": 12,
     "metadata": {},
     "output_type": "execute_result"
    }
   ],
   "source": [
    "# результат запроса\n",
    "pd.read_sql(query_3_3, connection)"
   ]
  },
  {
   "cell_type": "code",
   "execution_count": 20,
   "id": "390f1ae9",
   "metadata": {},
   "outputs": [],
   "source": [
    "query_areas = f'''\n",
    "                select distinct id, name\n",
    "                from public.areas\n",
    "            '''"
   ]
  },
  {
   "cell_type": "code",
   "execution_count": 22,
   "id": "cd2874a6",
   "metadata": {},
   "outputs": [
    {
     "name": "stderr",
     "output_type": "stream",
     "text": [
      "C:\\Users\\vas98\\AppData\\Local\\Temp\\ipykernel_5916\\3759208737.py:2: UserWarning: pandas only supports SQLAlchemy connectable (engine/connection) or database string URI or sqlite3 DBAPI2 connection. Other DBAPI2 objects are not tested. Please consider using SQLAlchemy.\n",
      "  pd.read_sql(query_areas, connection)\n"
     ]
    },
    {
     "data": {
      "text/html": [
       "<div>\n",
       "<style scoped>\n",
       "    .dataframe tbody tr th:only-of-type {\n",
       "        vertical-align: middle;\n",
       "    }\n",
       "\n",
       "    .dataframe tbody tr th {\n",
       "        vertical-align: top;\n",
       "    }\n",
       "\n",
       "    .dataframe thead th {\n",
       "        text-align: right;\n",
       "    }\n",
       "</style>\n",
       "<table border=\"1\" class=\"dataframe\">\n",
       "  <thead>\n",
       "    <tr style=\"text-align: right;\">\n",
       "      <th></th>\n",
       "      <th>id</th>\n",
       "      <th>name</th>\n",
       "    </tr>\n",
       "  </thead>\n",
       "  <tbody>\n",
       "    <tr>\n",
       "      <th>0</th>\n",
       "      <td>6493</td>\n",
       "      <td>Аса</td>\n",
       "    </tr>\n",
       "    <tr>\n",
       "      <th>1</th>\n",
       "      <td>301</td>\n",
       "      <td>Обнинск</td>\n",
       "    </tr>\n",
       "    <tr>\n",
       "      <th>2</th>\n",
       "      <td>1410</td>\n",
       "      <td>Усть-Катав</td>\n",
       "    </tr>\n",
       "    <tr>\n",
       "      <th>3</th>\n",
       "      <td>9</td>\n",
       "      <td>Азербайджан</td>\n",
       "    </tr>\n",
       "    <tr>\n",
       "      <th>4</th>\n",
       "      <td>1483</td>\n",
       "      <td>Буденновск</td>\n",
       "    </tr>\n",
       "    <tr>\n",
       "      <th>...</th>\n",
       "      <td>...</td>\n",
       "      <td>...</td>\n",
       "    </tr>\n",
       "    <tr>\n",
       "      <th>1357</th>\n",
       "      <td>1861</td>\n",
       "      <td>Белоусово</td>\n",
       "    </tr>\n",
       "    <tr>\n",
       "      <th>1358</th>\n",
       "      <td>1637</td>\n",
       "      <td>Лениногорск</td>\n",
       "    </tr>\n",
       "    <tr>\n",
       "      <th>1359</th>\n",
       "      <td>1042</td>\n",
       "      <td>Воркута</td>\n",
       "    </tr>\n",
       "    <tr>\n",
       "      <th>1360</th>\n",
       "      <td>2265</td>\n",
       "      <td>Полоцк</td>\n",
       "    </tr>\n",
       "    <tr>\n",
       "      <th>1361</th>\n",
       "      <td>4196</td>\n",
       "      <td>Дебёсы</td>\n",
       "    </tr>\n",
       "  </tbody>\n",
       "</table>\n",
       "<p>1362 rows × 2 columns</p>\n",
       "</div>"
      ],
      "text/plain": [
       "        id         name\n",
       "0     6493          Аса\n",
       "1      301      Обнинск\n",
       "2     1410   Усть-Катав\n",
       "3        9  Азербайджан\n",
       "4     1483   Буденновск\n",
       "...    ...          ...\n",
       "1357  1861    Белоусово\n",
       "1358  1637  Лениногорск\n",
       "1359  1042      Воркута\n",
       "1360  2265       Полоцк\n",
       "1361  4196       Дебёсы\n",
       "\n",
       "[1362 rows x 2 columns]"
      ]
     },
     "execution_count": 22,
     "metadata": {},
     "output_type": "execute_result"
    }
   ],
   "source": [
    "# результат запроса\n",
    "pd.read_sql(query_areas, connection)"
   ]
  },
  {
   "cell_type": "markdown",
   "id": "41bb59f3-53cc-4a67-a5bc-bedf573955e4",
   "metadata": {
    "id": "41bb59f3-53cc-4a67-a5bc-bedf573955e4"
   },
   "source": [
    "4. Посчитате с помощью запроса количество сфер деятельности в базе (таблица industries)."
   ]
  },
  {
   "cell_type": "code",
   "execution_count": 13,
   "id": "d286cf4c-707b-4cd2-9190-7ab3587d04a1",
   "metadata": {
    "id": "d286cf4c-707b-4cd2-9190-7ab3587d04a1"
   },
   "outputs": [],
   "source": [
    "# текст запроса\n",
    "query_3_4 = f'''\n",
    "                select count(id) count_industries \n",
    "                from public.industries\n",
    "            '''"
   ]
  },
  {
   "cell_type": "code",
   "execution_count": 17,
   "id": "JYAaoZ4qhfzW",
   "metadata": {
    "id": "JYAaoZ4qhfzW"
   },
   "outputs": [
    {
     "name": "stderr",
     "output_type": "stream",
     "text": [
      "C:\\Users\\vas98\\AppData\\Local\\Temp\\ipykernel_11176\\4157176699.py:2: UserWarning: pandas only supports SQLAlchemy connectable (engine/connection) or database string URI or sqlite3 DBAPI2 connection. Other DBAPI2 objects are not tested. Please consider using SQLAlchemy.\n",
      "  pd.read_sql(query_3_4, connection)\n"
     ]
    },
    {
     "data": {
      "text/html": [
       "<div>\n",
       "<style scoped>\n",
       "    .dataframe tbody tr th:only-of-type {\n",
       "        vertical-align: middle;\n",
       "    }\n",
       "\n",
       "    .dataframe tbody tr th {\n",
       "        vertical-align: top;\n",
       "    }\n",
       "\n",
       "    .dataframe thead th {\n",
       "        text-align: right;\n",
       "    }\n",
       "</style>\n",
       "<table border=\"1\" class=\"dataframe\">\n",
       "  <thead>\n",
       "    <tr style=\"text-align: right;\">\n",
       "      <th></th>\n",
       "      <th>count_industries</th>\n",
       "    </tr>\n",
       "  </thead>\n",
       "  <tbody>\n",
       "    <tr>\n",
       "      <th>0</th>\n",
       "      <td>294</td>\n",
       "    </tr>\n",
       "  </tbody>\n",
       "</table>\n",
       "</div>"
      ],
      "text/plain": [
       "   count_industries\n",
       "0               294"
      ]
     },
     "execution_count": 17,
     "metadata": {},
     "output_type": "execute_result"
    }
   ],
   "source": [
    "# результат запроса\n",
    "pd.read_sql(query_3_4, connection)"
   ]
  },
  {
   "cell_type": "markdown",
   "id": "9a8a2181-6914-448b-85f1-38f5f18b8a93",
   "metadata": {
    "id": "9a8a2181-6914-448b-85f1-38f5f18b8a93"
   },
   "source": [
    "***"
   ]
  },
  {
   "cell_type": "markdown",
   "id": "8578635d",
   "metadata": {
    "id": "be4e9bd3-a4db-4a20-82fb-6b02fc2957e0"
   },
   "source": [
    "Выводы по предварительному анализу данных:\n",
    "1. Вакансий намного больше, чем работодателей. Скорее всего среди работадателей присутствуют большие компании\n",
    "2. Регионов 1362, в то время как в России всего 89 регионов - значит, рассматриваются не только вакансии из России."
   ]
  },
  {
   "cell_type": "markdown",
   "id": "8d62a9f3-f64e-4fe7-bdac-c4dffa16155e",
   "metadata": {
    "id": "8d62a9f3-f64e-4fe7-bdac-c4dffa16155e"
   },
   "source": [
    "# Юнит 4. Детальный анализ вакансий"
   ]
  },
  {
   "cell_type": "markdown",
   "id": "93053d3d-b284-481a-9cf7-012d7014c0e0",
   "metadata": {
    "id": "93053d3d-b284-481a-9cf7-012d7014c0e0"
   },
   "source": [
    "1. Напишите запрос, который позволит узнать, сколько (cnt) вакансий в каждом регионе (area).\n",
    "Отсортируйте по количеству вакансий в порядке убывания."
   ]
  },
  {
   "cell_type": "code",
   "execution_count": 6,
   "id": "3f069da6-fdc9-4ae7-b514-fafe2675efd3",
   "metadata": {
    "id": "3f069da6-fdc9-4ae7-b514-fafe2675efd3"
   },
   "outputs": [],
   "source": [
    "# текст запроса\n",
    "query_4_1 = f'''\n",
    "                select ar.name, count(vac.name) count_areas \n",
    "                from public.areas ar join public.vacancies vac\n",
    "                on ar.id = vac.area_id\n",
    "                group by ar.name\n",
    "                order by count_areas desc\n",
    "            '''"
   ]
  },
  {
   "cell_type": "code",
   "execution_count": 8,
   "id": "P7QL86hrjhRJ",
   "metadata": {
    "id": "P7QL86hrjhRJ"
   },
   "outputs": [
    {
     "name": "stderr",
     "output_type": "stream",
     "text": [
      "C:\\Users\\vas98\\AppData\\Local\\Temp\\ipykernel_2052\\350642797.py:2: UserWarning: pandas only supports SQLAlchemy connectable (engine/connection) or database string URI or sqlite3 DBAPI2 connection. Other DBAPI2 objects are not tested. Please consider using SQLAlchemy.\n",
      "  pd.read_sql(query_4_1, connection)\n"
     ]
    },
    {
     "data": {
      "text/html": [
       "<div>\n",
       "<style scoped>\n",
       "    .dataframe tbody tr th:only-of-type {\n",
       "        vertical-align: middle;\n",
       "    }\n",
       "\n",
       "    .dataframe tbody tr th {\n",
       "        vertical-align: top;\n",
       "    }\n",
       "\n",
       "    .dataframe thead th {\n",
       "        text-align: right;\n",
       "    }\n",
       "</style>\n",
       "<table border=\"1\" class=\"dataframe\">\n",
       "  <thead>\n",
       "    <tr style=\"text-align: right;\">\n",
       "      <th></th>\n",
       "      <th>name</th>\n",
       "      <th>count_areas</th>\n",
       "    </tr>\n",
       "  </thead>\n",
       "  <tbody>\n",
       "    <tr>\n",
       "      <th>0</th>\n",
       "      <td>Москва</td>\n",
       "      <td>5333</td>\n",
       "    </tr>\n",
       "    <tr>\n",
       "      <th>1</th>\n",
       "      <td>Санкт-Петербург</td>\n",
       "      <td>2851</td>\n",
       "    </tr>\n",
       "    <tr>\n",
       "      <th>2</th>\n",
       "      <td>Минск</td>\n",
       "      <td>2112</td>\n",
       "    </tr>\n",
       "    <tr>\n",
       "      <th>3</th>\n",
       "      <td>Новосибирск</td>\n",
       "      <td>2006</td>\n",
       "    </tr>\n",
       "    <tr>\n",
       "      <th>4</th>\n",
       "      <td>Алматы</td>\n",
       "      <td>1892</td>\n",
       "    </tr>\n",
       "    <tr>\n",
       "      <th>...</th>\n",
       "      <td>...</td>\n",
       "      <td>...</td>\n",
       "    </tr>\n",
       "    <tr>\n",
       "      <th>764</th>\n",
       "      <td>Тарко-Сале</td>\n",
       "      <td>1</td>\n",
       "    </tr>\n",
       "    <tr>\n",
       "      <th>765</th>\n",
       "      <td>Новоаннинский</td>\n",
       "      <td>1</td>\n",
       "    </tr>\n",
       "    <tr>\n",
       "      <th>766</th>\n",
       "      <td>Бирск</td>\n",
       "      <td>1</td>\n",
       "    </tr>\n",
       "    <tr>\n",
       "      <th>767</th>\n",
       "      <td>Сасово</td>\n",
       "      <td>1</td>\n",
       "    </tr>\n",
       "    <tr>\n",
       "      <th>768</th>\n",
       "      <td>Анна</td>\n",
       "      <td>1</td>\n",
       "    </tr>\n",
       "  </tbody>\n",
       "</table>\n",
       "<p>769 rows × 2 columns</p>\n",
       "</div>"
      ],
      "text/plain": [
       "                name  count_areas\n",
       "0             Москва         5333\n",
       "1    Санкт-Петербург         2851\n",
       "2              Минск         2112\n",
       "3        Новосибирск         2006\n",
       "4             Алматы         1892\n",
       "..               ...          ...\n",
       "764       Тарко-Сале            1\n",
       "765    Новоаннинский            1\n",
       "766            Бирск            1\n",
       "767           Сасово            1\n",
       "768             Анна            1\n",
       "\n",
       "[769 rows x 2 columns]"
      ]
     },
     "execution_count": 8,
     "metadata": {},
     "output_type": "execute_result"
    }
   ],
   "source": [
    "# результат запроса\n",
    "pd.read_sql(query_4_1, connection)"
   ]
  },
  {
   "cell_type": "markdown",
   "id": "4266f0b6-1646-492a-88b4-2f6a46502135",
   "metadata": {
    "id": "4266f0b6-1646-492a-88b4-2f6a46502135"
   },
   "source": [
    "2. Напишите запрос, чтобы определить у какого количества вакансий заполнено хотя бы одно из двух полей с зарплатой."
   ]
  },
  {
   "cell_type": "code",
   "execution_count": 1,
   "id": "0c44b350-72eb-4d65-8b54-a1fc449ba9fd",
   "metadata": {
    "id": "0c44b350-72eb-4d65-8b54-a1fc449ba9fd"
   },
   "outputs": [],
   "source": [
    "# текст запроса\n",
    "query_4_2 = f'''\n",
    "                select count(vac.id) count_salaries \n",
    "                from public.vacancies vac\n",
    "                where vac.salary_from is not null or vac.salary_to is not null\n",
    "            '''"
   ]
  },
  {
   "cell_type": "code",
   "execution_count": 25,
   "id": "rhvwaMDkoWTi",
   "metadata": {
    "id": "rhvwaMDkoWTi"
   },
   "outputs": [
    {
     "name": "stderr",
     "output_type": "stream",
     "text": [
      "C:\\Users\\vas98\\AppData\\Local\\Temp\\ipykernel_5916\\813374758.py:2: UserWarning: pandas only supports SQLAlchemy connectable (engine/connection) or database string URI or sqlite3 DBAPI2 connection. Other DBAPI2 objects are not tested. Please consider using SQLAlchemy.\n",
      "  pd.read_sql(query_4_2, connection)\n"
     ]
    },
    {
     "data": {
      "text/html": [
       "<div>\n",
       "<style scoped>\n",
       "    .dataframe tbody tr th:only-of-type {\n",
       "        vertical-align: middle;\n",
       "    }\n",
       "\n",
       "    .dataframe tbody tr th {\n",
       "        vertical-align: top;\n",
       "    }\n",
       "\n",
       "    .dataframe thead th {\n",
       "        text-align: right;\n",
       "    }\n",
       "</style>\n",
       "<table border=\"1\" class=\"dataframe\">\n",
       "  <thead>\n",
       "    <tr style=\"text-align: right;\">\n",
       "      <th></th>\n",
       "      <th>count_salaries</th>\n",
       "    </tr>\n",
       "  </thead>\n",
       "  <tbody>\n",
       "    <tr>\n",
       "      <th>0</th>\n",
       "      <td>24073</td>\n",
       "    </tr>\n",
       "  </tbody>\n",
       "</table>\n",
       "</div>"
      ],
      "text/plain": [
       "   count_salaries\n",
       "0           24073"
      ]
     },
     "execution_count": 25,
     "metadata": {},
     "output_type": "execute_result"
    }
   ],
   "source": [
    "# результат запроса\n",
    "pd.read_sql(query_4_2, connection)"
   ]
  },
  {
   "cell_type": "markdown",
   "id": "7c35bcf7",
   "metadata": {},
   "source": [
    "Узнаем, сколько это в процентах от общего количества вакансий:"
   ]
  },
  {
   "cell_type": "code",
   "execution_count": 11,
   "id": "f0f7fe1a",
   "metadata": {},
   "outputs": [
    {
     "name": "stderr",
     "output_type": "stream",
     "text": [
      "C:\\Users\\vas98\\AppData\\Local\\Temp\\ipykernel_6956\\3473497484.py:2: UserWarning: pandas only supports SQLAlchemy connectable (engine/connection) or database string URI or sqlite3 DBAPI2 connection. Other DBAPI2 objects are not tested. Please consider using SQLAlchemy.\n",
      "  round(pd.read_sql(query_4_2, connection).count_salaries[0]/pd.read_sql(query_3_1, connection).count_all_vacancies[0]*100)\n"
     ]
    },
    {
     "data": {
      "text/plain": [
       "49"
      ]
     },
     "execution_count": 11,
     "metadata": {},
     "output_type": "execute_result"
    }
   ],
   "source": [
    "# доля вакансий с заполненной зарплатой, %\n",
    "round(pd.read_sql(query_4_2, connection).count_salaries[0]/pd.read_sql(query_3_1, connection).count_all_vacancies[0]*100)"
   ]
  },
  {
   "cell_type": "markdown",
   "id": "635c4d5d-f323-4c66-b428-50a088120aa0",
   "metadata": {
    "id": "635c4d5d-f323-4c66-b428-50a088120aa0"
   },
   "source": [
    "3. Найдите средние значения для нижней и верхней границы зарплатной вилки. Округлите значения до целого."
   ]
  },
  {
   "cell_type": "code",
   "execution_count": 36,
   "id": "603cdbe4-0ec3-4106-8eaf-c73fcdd29165",
   "metadata": {
    "id": "603cdbe4-0ec3-4106-8eaf-c73fcdd29165"
   },
   "outputs": [],
   "source": [
    "# текст запроса\n",
    "query_4_3 = f'''\n",
    "                select round(avg(vac.salary_from),0)::integer salary_from, round(avg(vac.salary_to),0)::integer salary_to\n",
    "                from public.vacancies vac\n",
    "            '''"
   ]
  },
  {
   "cell_type": "code",
   "execution_count": 37,
   "id": "pswpAb66ovZZ",
   "metadata": {
    "id": "pswpAb66ovZZ"
   },
   "outputs": [
    {
     "name": "stderr",
     "output_type": "stream",
     "text": [
      "C:\\Users\\vas98\\AppData\\Local\\Temp\\ipykernel_5916\\3264578648.py:2: UserWarning: pandas only supports SQLAlchemy connectable (engine/connection) or database string URI or sqlite3 DBAPI2 connection. Other DBAPI2 objects are not tested. Please consider using SQLAlchemy.\n",
      "  pd.read_sql(query_4_3, connection)\n"
     ]
    },
    {
     "data": {
      "text/html": [
       "<div>\n",
       "<style scoped>\n",
       "    .dataframe tbody tr th:only-of-type {\n",
       "        vertical-align: middle;\n",
       "    }\n",
       "\n",
       "    .dataframe tbody tr th {\n",
       "        vertical-align: top;\n",
       "    }\n",
       "\n",
       "    .dataframe thead th {\n",
       "        text-align: right;\n",
       "    }\n",
       "</style>\n",
       "<table border=\"1\" class=\"dataframe\">\n",
       "  <thead>\n",
       "    <tr style=\"text-align: right;\">\n",
       "      <th></th>\n",
       "      <th>salary_from</th>\n",
       "      <th>salary_to</th>\n",
       "    </tr>\n",
       "  </thead>\n",
       "  <tbody>\n",
       "    <tr>\n",
       "      <th>0</th>\n",
       "      <td>71065</td>\n",
       "      <td>110537</td>\n",
       "    </tr>\n",
       "  </tbody>\n",
       "</table>\n",
       "</div>"
      ],
      "text/plain": [
       "   salary_from  salary_to\n",
       "0        71065     110537"
      ]
     },
     "execution_count": 37,
     "metadata": {},
     "output_type": "execute_result"
    }
   ],
   "source": [
    "# результат запроса\n",
    "pd.read_sql(query_4_3, connection)"
   ]
  },
  {
   "cell_type": "markdown",
   "id": "f3fdaec9-5fd3-4260-9cf5-1d7406b628a5",
   "metadata": {
    "id": "f3fdaec9-5fd3-4260-9cf5-1d7406b628a5"
   },
   "source": [
    "4. Напишите запрос, который выведет количество вакансий для каждого сочетания типа рабочего графика (schedule) и типа трудоустройства (employment), используемого в вакансиях. Результат отсортируйте по убыванию количества.\n"
   ]
  },
  {
   "cell_type": "code",
   "execution_count": 45,
   "id": "1ea710ec-871b-431e-9462-c7d0fd87011b",
   "metadata": {
    "id": "1ea710ec-871b-431e-9462-c7d0fd87011b"
   },
   "outputs": [],
   "source": [
    "# текст запроса\n",
    "query_4_4 = f'''\n",
    "                select vac.schedule, vac.employment, count(vac.id) cnt\n",
    "                from public.vacancies vac\n",
    "                group by vac.schedule, vac.employment\n",
    "                order by cnt desc\n",
    "            '''"
   ]
  },
  {
   "cell_type": "code",
   "execution_count": 46,
   "id": "lGUVqavdo4JQ",
   "metadata": {
    "id": "lGUVqavdo4JQ"
   },
   "outputs": [
    {
     "name": "stderr",
     "output_type": "stream",
     "text": [
      "C:\\Users\\vas98\\AppData\\Local\\Temp\\ipykernel_2052\\1833962777.py:2: UserWarning: pandas only supports SQLAlchemy connectable (engine/connection) or database string URI or sqlite3 DBAPI2 connection. Other DBAPI2 objects are not tested. Please consider using SQLAlchemy.\n",
      "  pd.read_sql(query_4_4, connection)\n"
     ]
    },
    {
     "data": {
      "text/html": [
       "<div>\n",
       "<style scoped>\n",
       "    .dataframe tbody tr th:only-of-type {\n",
       "        vertical-align: middle;\n",
       "    }\n",
       "\n",
       "    .dataframe tbody tr th {\n",
       "        vertical-align: top;\n",
       "    }\n",
       "\n",
       "    .dataframe thead th {\n",
       "        text-align: right;\n",
       "    }\n",
       "</style>\n",
       "<table border=\"1\" class=\"dataframe\">\n",
       "  <thead>\n",
       "    <tr style=\"text-align: right;\">\n",
       "      <th></th>\n",
       "      <th>schedule</th>\n",
       "      <th>employment</th>\n",
       "      <th>cnt</th>\n",
       "    </tr>\n",
       "  </thead>\n",
       "  <tbody>\n",
       "    <tr>\n",
       "      <th>0</th>\n",
       "      <td>Полный день</td>\n",
       "      <td>Полная занятость</td>\n",
       "      <td>35367</td>\n",
       "    </tr>\n",
       "    <tr>\n",
       "      <th>1</th>\n",
       "      <td>Удаленная работа</td>\n",
       "      <td>Полная занятость</td>\n",
       "      <td>7802</td>\n",
       "    </tr>\n",
       "    <tr>\n",
       "      <th>2</th>\n",
       "      <td>Гибкий график</td>\n",
       "      <td>Полная занятость</td>\n",
       "      <td>1593</td>\n",
       "    </tr>\n",
       "    <tr>\n",
       "      <th>3</th>\n",
       "      <td>Удаленная работа</td>\n",
       "      <td>Частичная занятость</td>\n",
       "      <td>1312</td>\n",
       "    </tr>\n",
       "    <tr>\n",
       "      <th>4</th>\n",
       "      <td>Сменный график</td>\n",
       "      <td>Полная занятость</td>\n",
       "      <td>940</td>\n",
       "    </tr>\n",
       "    <tr>\n",
       "      <th>5</th>\n",
       "      <td>Полный день</td>\n",
       "      <td>Стажировка</td>\n",
       "      <td>569</td>\n",
       "    </tr>\n",
       "    <tr>\n",
       "      <th>6</th>\n",
       "      <td>Вахтовый метод</td>\n",
       "      <td>Полная занятость</td>\n",
       "      <td>367</td>\n",
       "    </tr>\n",
       "    <tr>\n",
       "      <th>7</th>\n",
       "      <td>Полный день</td>\n",
       "      <td>Частичная занятость</td>\n",
       "      <td>347</td>\n",
       "    </tr>\n",
       "    <tr>\n",
       "      <th>8</th>\n",
       "      <td>Гибкий график</td>\n",
       "      <td>Частичная занятость</td>\n",
       "      <td>312</td>\n",
       "    </tr>\n",
       "    <tr>\n",
       "      <th>9</th>\n",
       "      <td>Полный день</td>\n",
       "      <td>Проектная работа</td>\n",
       "      <td>141</td>\n",
       "    </tr>\n",
       "    <tr>\n",
       "      <th>10</th>\n",
       "      <td>Удаленная работа</td>\n",
       "      <td>Проектная работа</td>\n",
       "      <td>133</td>\n",
       "    </tr>\n",
       "    <tr>\n",
       "      <th>11</th>\n",
       "      <td>Гибкий график</td>\n",
       "      <td>Стажировка</td>\n",
       "      <td>116</td>\n",
       "    </tr>\n",
       "    <tr>\n",
       "      <th>12</th>\n",
       "      <td>Сменный график</td>\n",
       "      <td>Частичная занятость</td>\n",
       "      <td>101</td>\n",
       "    </tr>\n",
       "    <tr>\n",
       "      <th>13</th>\n",
       "      <td>Удаленная работа</td>\n",
       "      <td>Стажировка</td>\n",
       "      <td>64</td>\n",
       "    </tr>\n",
       "    <tr>\n",
       "      <th>14</th>\n",
       "      <td>Гибкий график</td>\n",
       "      <td>Проектная работа</td>\n",
       "      <td>18</td>\n",
       "    </tr>\n",
       "    <tr>\n",
       "      <th>15</th>\n",
       "      <td>Сменный график</td>\n",
       "      <td>Стажировка</td>\n",
       "      <td>12</td>\n",
       "    </tr>\n",
       "    <tr>\n",
       "      <th>16</th>\n",
       "      <td>Вахтовый метод</td>\n",
       "      <td>Проектная работа</td>\n",
       "      <td>2</td>\n",
       "    </tr>\n",
       "    <tr>\n",
       "      <th>17</th>\n",
       "      <td>Сменный график</td>\n",
       "      <td>Проектная работа</td>\n",
       "      <td>1</td>\n",
       "    </tr>\n",
       "  </tbody>\n",
       "</table>\n",
       "</div>"
      ],
      "text/plain": [
       "            schedule           employment    cnt\n",
       "0        Полный день     Полная занятость  35367\n",
       "1   Удаленная работа     Полная занятость   7802\n",
       "2      Гибкий график     Полная занятость   1593\n",
       "3   Удаленная работа  Частичная занятость   1312\n",
       "4     Сменный график     Полная занятость    940\n",
       "5        Полный день           Стажировка    569\n",
       "6     Вахтовый метод     Полная занятость    367\n",
       "7        Полный день  Частичная занятость    347\n",
       "8      Гибкий график  Частичная занятость    312\n",
       "9        Полный день     Проектная работа    141\n",
       "10  Удаленная работа     Проектная работа    133\n",
       "11     Гибкий график           Стажировка    116\n",
       "12    Сменный график  Частичная занятость    101\n",
       "13  Удаленная работа           Стажировка     64\n",
       "14     Гибкий график     Проектная работа     18\n",
       "15    Сменный график           Стажировка     12\n",
       "16    Вахтовый метод     Проектная работа      2\n",
       "17    Сменный график     Проектная работа      1"
      ]
     },
     "execution_count": 46,
     "metadata": {},
     "output_type": "execute_result"
    }
   ],
   "source": [
    "# результат запроса\n",
    "pd.read_sql(query_4_4, connection)"
   ]
  },
  {
   "cell_type": "markdown",
   "id": "0136ffee-0ead-4a6b-b608-61d1c753a438",
   "metadata": {
    "id": "0136ffee-0ead-4a6b-b608-61d1c753a438"
   },
   "source": [
    "5. Напишите запрос, выводящий значения поля Требуемый опыт работы (experience) в порядке возрастания количества вакансий, в которых указан данный вариант опыта. "
   ]
  },
  {
   "cell_type": "code",
   "execution_count": 61,
   "id": "5b3a8e79-f7ab-4008-b767-12aea3a205ea",
   "metadata": {
    "id": "5b3a8e79-f7ab-4008-b767-12aea3a205ea"
   },
   "outputs": [],
   "source": [
    "# текст запроса\n",
    "query_4_5 = f'''\n",
    "                select vac.experience\n",
    "                from public.vacancies vac\n",
    "                group by vac.experience\n",
    "                order by count(vac.id) asc\n",
    "            '''"
   ]
  },
  {
   "cell_type": "code",
   "execution_count": 62,
   "id": "3Is64Y-hpDpq",
   "metadata": {
    "id": "3Is64Y-hpDpq"
   },
   "outputs": [
    {
     "name": "stderr",
     "output_type": "stream",
     "text": [
      "C:\\Users\\vas98\\AppData\\Local\\Temp\\ipykernel_2052\\897199166.py:2: UserWarning: pandas only supports SQLAlchemy connectable (engine/connection) or database string URI or sqlite3 DBAPI2 connection. Other DBAPI2 objects are not tested. Please consider using SQLAlchemy.\n",
      "  pd.read_sql(query_4_5, connection)\n"
     ]
    },
    {
     "data": {
      "text/html": [
       "<div>\n",
       "<style scoped>\n",
       "    .dataframe tbody tr th:only-of-type {\n",
       "        vertical-align: middle;\n",
       "    }\n",
       "\n",
       "    .dataframe tbody tr th {\n",
       "        vertical-align: top;\n",
       "    }\n",
       "\n",
       "    .dataframe thead th {\n",
       "        text-align: right;\n",
       "    }\n",
       "</style>\n",
       "<table border=\"1\" class=\"dataframe\">\n",
       "  <thead>\n",
       "    <tr style=\"text-align: right;\">\n",
       "      <th></th>\n",
       "      <th>experience</th>\n",
       "    </tr>\n",
       "  </thead>\n",
       "  <tbody>\n",
       "    <tr>\n",
       "      <th>0</th>\n",
       "      <td>Более 6 лет</td>\n",
       "    </tr>\n",
       "    <tr>\n",
       "      <th>1</th>\n",
       "      <td>Нет опыта</td>\n",
       "    </tr>\n",
       "    <tr>\n",
       "      <th>2</th>\n",
       "      <td>От 3 до 6 лет</td>\n",
       "    </tr>\n",
       "    <tr>\n",
       "      <th>3</th>\n",
       "      <td>От 1 года до 3 лет</td>\n",
       "    </tr>\n",
       "  </tbody>\n",
       "</table>\n",
       "</div>"
      ],
      "text/plain": [
       "           experience\n",
       "0         Более 6 лет\n",
       "1           Нет опыта\n",
       "2       От 3 до 6 лет\n",
       "3  От 1 года до 3 лет"
      ]
     },
     "execution_count": 62,
     "metadata": {},
     "output_type": "execute_result"
    }
   ],
   "source": [
    "# результат запроса\n",
    "pd.read_sql(query_4_5, connection)"
   ]
  },
  {
   "cell_type": "markdown",
   "id": "oq2b7n1QpIka",
   "metadata": {
    "id": "oq2b7n1QpIka"
   },
   "source": [
    "***"
   ]
  },
  {
   "cell_type": "markdown",
   "id": "7f67fceb",
   "metadata": {
    "id": "e91f87ed-e25c-4f96-9f92-b642e8c0b4fa"
   },
   "source": [
    "Выводы по детальному анализу вакансий:\n",
    "1. Как и можно было ожидать, больше всего вакансий в Москве, Санкт-Петербурге и других крупных городах. Странно, что в городе Бирск с населением 44 тыс. человек всего одна вакансия.\n",
    "2. Поле с зарплатой заполнено примерно в половине вакансий (49%). Это довольно много (согласно статье от 21-го года зарплаты не заполнены примерно в 25% вакансий https://hh.ru/article/23913)\n",
    "3. Зарплатная вилка находится в пределах от 71065 до 110537 руб. В принципе это согласуется с данными Росстата о средней ЗП в РФ за 2023 год - 74854 руб. Но средняя ЗП очень близка к нижней границе зарплатной вилки. Думаю, это объясняется тем, что в списке немало иностранных регионов.\n",
    "4. Все вакансии из топ-3 по числу вакансий предполагают тип трудоустройства - полную занятость. Количество вакансий с типом рабочего графика - \"полный день работы\" находится на 1-м месте и значительно превышает все другие. Типы рабочего графика \"вахтовый метод\" и \"сменный график\" очень редко сочитаются с типом трудоустройства \"проектная работа\".\n",
    "5. Реже всего требуются сотрудники с опытом более 6 лет; чаще всего - с опытом от 1-го года до 3-х лет. Интересно, что сотрудники с опытом более 6 лет требуется даже реже чем сотрудники без опыта. Предполагаю, что это связано с трендом на постоянное обновление знаний - ценен не тот, кто знает определённый предмет досконально, а тот кто способен осваивать новое."
   ]
  },
  {
   "cell_type": "markdown",
   "id": "7ea20ab6-04a7-40a0-adec-443a0e5a42c3",
   "metadata": {
    "id": "7ea20ab6-04a7-40a0-adec-443a0e5a42c3"
   },
   "source": [
    "# Юнит 5. Анализ работодателей"
   ]
  },
  {
   "cell_type": "markdown",
   "id": "968aed80-74ef-4ffb-b5bf-c65b84e9caea",
   "metadata": {
    "id": "968aed80-74ef-4ffb-b5bf-c65b84e9caea"
   },
   "source": [
    "1. Напишите запрос, который позволит узнать, какие работодатели находятся на первом и пятом месте по количеству вакансий."
   ]
  },
  {
   "cell_type": "code",
   "execution_count": 38,
   "id": "f2d62796-d400-4ec1-a675-88112739a50e",
   "metadata": {
    "id": "f2d62796-d400-4ec1-a675-88112739a50e"
   },
   "outputs": [],
   "source": [
    "# текст запроса\n",
    "query_5_1 = f'''\n",
    "                select empl.name, count(vac.id)\n",
    "                from public.vacancies vac \n",
    "                left join public.employers empl\n",
    "                on empl.id = vac.employer_id\n",
    "                group by empl.name\n",
    "                order by count(empl.id) desc\n",
    "                limit 5\n",
    "            '''"
   ]
  },
  {
   "cell_type": "code",
   "execution_count": 39,
   "id": "64tOMkAxqkQk",
   "metadata": {
    "id": "64tOMkAxqkQk"
   },
   "outputs": [
    {
     "name": "stderr",
     "output_type": "stream",
     "text": [
      "C:\\Users\\vas98\\AppData\\Local\\Temp\\ipykernel_5916\\2614351128.py:2: UserWarning: pandas only supports SQLAlchemy connectable (engine/connection) or database string URI or sqlite3 DBAPI2 connection. Other DBAPI2 objects are not tested. Please consider using SQLAlchemy.\n",
      "  pd.read_sql(query_5_1, connection)\n"
     ]
    },
    {
     "data": {
      "text/html": [
       "<div>\n",
       "<style scoped>\n",
       "    .dataframe tbody tr th:only-of-type {\n",
       "        vertical-align: middle;\n",
       "    }\n",
       "\n",
       "    .dataframe tbody tr th {\n",
       "        vertical-align: top;\n",
       "    }\n",
       "\n",
       "    .dataframe thead th {\n",
       "        text-align: right;\n",
       "    }\n",
       "</style>\n",
       "<table border=\"1\" class=\"dataframe\">\n",
       "  <thead>\n",
       "    <tr style=\"text-align: right;\">\n",
       "      <th></th>\n",
       "      <th>name</th>\n",
       "      <th>count</th>\n",
       "    </tr>\n",
       "  </thead>\n",
       "  <tbody>\n",
       "    <tr>\n",
       "      <th>0</th>\n",
       "      <td>Яндекс</td>\n",
       "      <td>1933</td>\n",
       "    </tr>\n",
       "    <tr>\n",
       "      <th>1</th>\n",
       "      <td>Ростелеком</td>\n",
       "      <td>491</td>\n",
       "    </tr>\n",
       "    <tr>\n",
       "      <th>2</th>\n",
       "      <td>Тинькофф</td>\n",
       "      <td>444</td>\n",
       "    </tr>\n",
       "    <tr>\n",
       "      <th>3</th>\n",
       "      <td>СБЕР</td>\n",
       "      <td>428</td>\n",
       "    </tr>\n",
       "    <tr>\n",
       "      <th>4</th>\n",
       "      <td>Газпром нефть</td>\n",
       "      <td>331</td>\n",
       "    </tr>\n",
       "  </tbody>\n",
       "</table>\n",
       "</div>"
      ],
      "text/plain": [
       "            name  count\n",
       "0         Яндекс   1933\n",
       "1     Ростелеком    491\n",
       "2       Тинькофф    444\n",
       "3           СБЕР    428\n",
       "4  Газпром нефть    331"
      ]
     },
     "execution_count": 39,
     "metadata": {},
     "output_type": "execute_result"
    }
   ],
   "source": [
    "# результат запроса\n",
    "pd.read_sql(query_5_1, connection)"
   ]
  },
  {
   "cell_type": "markdown",
   "id": "68377cfc-b378-43dc-ab7d-1195abf2c515",
   "metadata": {
    "id": "68377cfc-b378-43dc-ab7d-1195abf2c515"
   },
   "source": [
    "2. Напишите запрос, который для каждого региона выведет количество работодателей и вакансий в нём.\n",
    "Среди регионов, в которых нет вакансий, найдите тот, в котором наибольшее количество работодателей.\n"
   ]
  },
  {
   "cell_type": "code",
   "execution_count": 35,
   "id": "c0838cec",
   "metadata": {},
   "outputs": [],
   "source": [
    "query_5_2 = f'''\n",
    "                SELECT ar.name, COUNT(empl.id) as empl_cnt, COUNT(vac.id) as vac_cnt\n",
    "                FROM\n",
    "                areas ar \n",
    "                LEFT JOIN employers empl ON ar.id = empl.area \n",
    "                LEFT JOIN vacancies vac ON ar.id = vac.area_id\n",
    "                GROUP BY ar.name\n",
    "                HAVING COUNT(vac.id) = 0\n",
    "                ORDER BY empl_cnt DESC\n",
    "            '''"
   ]
  },
  {
   "cell_type": "code",
   "execution_count": 36,
   "id": "41844737",
   "metadata": {},
   "outputs": [
    {
     "name": "stderr",
     "output_type": "stream",
     "text": [
      "C:\\Users\\vas98\\AppData\\Local\\Temp\\ipykernel_14624\\3119956253.py:1: UserWarning: pandas only supports SQLAlchemy connectable (engine/connection) or database string URI or sqlite3 DBAPI2 connection. Other DBAPI2 objects are not tested. Please consider using SQLAlchemy.\n",
      "  pd.read_sql(query_test_employers, connection)[:-50]\n"
     ]
    },
    {
     "data": {
      "text/html": [
       "<div>\n",
       "<style scoped>\n",
       "    .dataframe tbody tr th:only-of-type {\n",
       "        vertical-align: middle;\n",
       "    }\n",
       "\n",
       "    .dataframe tbody tr th {\n",
       "        vertical-align: top;\n",
       "    }\n",
       "\n",
       "    .dataframe thead th {\n",
       "        text-align: right;\n",
       "    }\n",
       "</style>\n",
       "<table border=\"1\" class=\"dataframe\">\n",
       "  <thead>\n",
       "    <tr style=\"text-align: right;\">\n",
       "      <th></th>\n",
       "      <th>name</th>\n",
       "      <th>empl_cnt</th>\n",
       "      <th>vac_cnt</th>\n",
       "    </tr>\n",
       "  </thead>\n",
       "  <tbody>\n",
       "    <tr>\n",
       "      <th>0</th>\n",
       "      <td>Россия</td>\n",
       "      <td>410</td>\n",
       "      <td>0</td>\n",
       "    </tr>\n",
       "    <tr>\n",
       "      <th>1</th>\n",
       "      <td>Казахстан</td>\n",
       "      <td>207</td>\n",
       "      <td>0</td>\n",
       "    </tr>\n",
       "    <tr>\n",
       "      <th>2</th>\n",
       "      <td>Московская область</td>\n",
       "      <td>75</td>\n",
       "      <td>0</td>\n",
       "    </tr>\n",
       "    <tr>\n",
       "      <th>3</th>\n",
       "      <td>Краснодарский край</td>\n",
       "      <td>19</td>\n",
       "      <td>0</td>\n",
       "    </tr>\n",
       "    <tr>\n",
       "      <th>4</th>\n",
       "      <td>Ростовская область</td>\n",
       "      <td>18</td>\n",
       "      <td>0</td>\n",
       "    </tr>\n",
       "    <tr>\n",
       "      <th>...</th>\n",
       "      <td>...</td>\n",
       "      <td>...</td>\n",
       "      <td>...</td>\n",
       "    </tr>\n",
       "    <tr>\n",
       "      <th>538</th>\n",
       "      <td>Кушва</td>\n",
       "      <td>0</td>\n",
       "      <td>0</td>\n",
       "    </tr>\n",
       "    <tr>\n",
       "      <th>539</th>\n",
       "      <td>Данилов</td>\n",
       "      <td>0</td>\n",
       "      <td>0</td>\n",
       "    </tr>\n",
       "    <tr>\n",
       "      <th>540</th>\n",
       "      <td>Краснозёрское</td>\n",
       "      <td>0</td>\n",
       "      <td>0</td>\n",
       "    </tr>\n",
       "    <tr>\n",
       "      <th>541</th>\n",
       "      <td>Северская станица</td>\n",
       "      <td>0</td>\n",
       "      <td>0</td>\n",
       "    </tr>\n",
       "    <tr>\n",
       "      <th>542</th>\n",
       "      <td>Зубова-Поляна</td>\n",
       "      <td>0</td>\n",
       "      <td>0</td>\n",
       "    </tr>\n",
       "  </tbody>\n",
       "</table>\n",
       "<p>543 rows × 3 columns</p>\n",
       "</div>"
      ],
      "text/plain": [
       "                   name  empl_cnt  vac_cnt\n",
       "0                Россия       410        0\n",
       "1             Казахстан       207        0\n",
       "2    Московская область        75        0\n",
       "3    Краснодарский край        19        0\n",
       "4    Ростовская область        18        0\n",
       "..                  ...       ...      ...\n",
       "538               Кушва         0        0\n",
       "539             Данилов         0        0\n",
       "540       Краснозёрское         0        0\n",
       "541   Северская станица         0        0\n",
       "542       Зубова-Поляна         0        0\n",
       "\n",
       "[543 rows x 3 columns]"
      ]
     },
     "execution_count": 36,
     "metadata": {},
     "output_type": "execute_result"
    }
   ],
   "source": [
    "pd.read_sql(query_5_2, connection)"
   ]
  },
  {
   "cell_type": "markdown",
   "id": "f2fe0acb-ab1a-4e15-9326-2560e22d73c1",
   "metadata": {
    "id": "f2fe0acb-ab1a-4e15-9326-2560e22d73c1"
   },
   "source": [
    "3. Для каждого работодателя посчитайте количество регионов, в которых он публикует свои вакансии. Отсортируйте результат по убыванию количества.\n"
   ]
  },
  {
   "cell_type": "code",
   "execution_count": 55,
   "id": "6271f8ad-bd2e-4196-ae4a-5b39c4c1010e",
   "metadata": {
    "id": "6271f8ad-bd2e-4196-ae4a-5b39c4c1010e"
   },
   "outputs": [],
   "source": [
    "# текст запроса\n",
    "\n",
    "query_5_3 = f'''\n",
    "                SELECT empl.name empl_name, COUNT(DISTINCT ar.id) cnt_ar_id\n",
    "                FROM employers empl \n",
    "                LEFT JOIN vacancies vac ON  empl.id  =  vac.employer_id\n",
    "                LEFT JOIN areas ar ON vac.area_id = ar.id\n",
    "                GROUP BY empl_name\n",
    "                ORDER BY  COUNT(ar.name) DESC\n",
    "            '''"
   ]
  },
  {
   "cell_type": "code",
   "execution_count": 58,
   "id": "dfb5e953",
   "metadata": {},
   "outputs": [
    {
     "name": "stderr",
     "output_type": "stream",
     "text": [
      "C:\\Users\\vas98\\AppData\\Local\\Temp\\ipykernel_14624\\452144288.py:1: UserWarning: pandas only supports SQLAlchemy connectable (engine/connection) or database string URI or sqlite3 DBAPI2 connection. Other DBAPI2 objects are not tested. Please consider using SQLAlchemy.\n",
      "  pd.read_sql(query_5_3, connection)\n"
     ]
    },
    {
     "data": {
      "text/html": [
       "<div>\n",
       "<style scoped>\n",
       "    .dataframe tbody tr th:only-of-type {\n",
       "        vertical-align: middle;\n",
       "    }\n",
       "\n",
       "    .dataframe tbody tr th {\n",
       "        vertical-align: top;\n",
       "    }\n",
       "\n",
       "    .dataframe thead th {\n",
       "        text-align: right;\n",
       "    }\n",
       "</style>\n",
       "<table border=\"1\" class=\"dataframe\">\n",
       "  <thead>\n",
       "    <tr style=\"text-align: right;\">\n",
       "      <th></th>\n",
       "      <th>empl_name</th>\n",
       "      <th>cnt_ar_id</th>\n",
       "    </tr>\n",
       "  </thead>\n",
       "  <tbody>\n",
       "    <tr>\n",
       "      <th>0</th>\n",
       "      <td>Яндекс</td>\n",
       "      <td>181</td>\n",
       "    </tr>\n",
       "    <tr>\n",
       "      <th>1</th>\n",
       "      <td>Ростелеком</td>\n",
       "      <td>152</td>\n",
       "    </tr>\n",
       "    <tr>\n",
       "      <th>2</th>\n",
       "      <td>Тинькофф</td>\n",
       "      <td>43</td>\n",
       "    </tr>\n",
       "    <tr>\n",
       "      <th>3</th>\n",
       "      <td>СБЕР</td>\n",
       "      <td>24</td>\n",
       "    </tr>\n",
       "    <tr>\n",
       "      <th>4</th>\n",
       "      <td>Газпром нефть</td>\n",
       "      <td>24</td>\n",
       "    </tr>\n",
       "    <tr>\n",
       "      <th>...</th>\n",
       "      <td>...</td>\n",
       "      <td>...</td>\n",
       "    </tr>\n",
       "    <tr>\n",
       "      <th>23170</th>\n",
       "      <td>Независимое агентство Аналитика товарных рынков</td>\n",
       "      <td>0</td>\n",
       "    </tr>\n",
       "    <tr>\n",
       "      <th>23171</th>\n",
       "      <td>Независимое Информационное Агентство</td>\n",
       "      <td>0</td>\n",
       "    </tr>\n",
       "    <tr>\n",
       "      <th>23172</th>\n",
       "      <td>Независимое телевидение Севастополя</td>\n",
       "      <td>0</td>\n",
       "    </tr>\n",
       "    <tr>\n",
       "      <th>23173</th>\n",
       "      <td>Независимость</td>\n",
       "      <td>0</td>\n",
       "    </tr>\n",
       "    <tr>\n",
       "      <th>23174</th>\n",
       "      <td>ICNX</td>\n",
       "      <td>0</td>\n",
       "    </tr>\n",
       "  </tbody>\n",
       "</table>\n",
       "<p>23175 rows × 2 columns</p>\n",
       "</div>"
      ],
      "text/plain": [
       "                                             empl_name  cnt_ar_id\n",
       "0                                               Яндекс        181\n",
       "1                                           Ростелеком        152\n",
       "2                                             Тинькофф         43\n",
       "3                                                 СБЕР         24\n",
       "4                                        Газпром нефть         24\n",
       "...                                                ...        ...\n",
       "23170  Независимое агентство Аналитика товарных рынков          0\n",
       "23171             Независимое Информационное Агентство          0\n",
       "23172              Независимое телевидение Севастополя          0\n",
       "23173                                    Независимость          0\n",
       "23174                                             ICNX          0\n",
       "\n",
       "[23175 rows x 2 columns]"
      ]
     },
     "execution_count": 58,
     "metadata": {},
     "output_type": "execute_result"
    }
   ],
   "source": [
    "pd.read_sql(query_5_3, connection)"
   ]
  },
  {
   "cell_type": "markdown",
   "id": "eab2206d-d95b-468b-8e5f-34381abf0ce7",
   "metadata": {
    "id": "eab2206d-d95b-468b-8e5f-34381abf0ce7"
   },
   "source": [
    "4. Напишите запрос для подсчёта количества работодателей, у которых не указана сфера деятельности. "
   ]
  },
  {
   "cell_type": "code",
   "execution_count": 106,
   "id": "80defb23-bfb1-4a18-8be6-bf36aa7165d5",
   "metadata": {
    "id": "80defb23-bfb1-4a18-8be6-bf36aa7165d5"
   },
   "outputs": [],
   "source": [
    "# текст запроса\n",
    "query_5_4 = f'''\n",
    "            SELECT COUNT(DISTINCT res.id)\n",
    "            FROM\n",
    "                (\n",
    "                 SELECT e.id, ei.industry_id\n",
    "                FROM employers e\n",
    "                LEFT JOIN employers_industries ei ON e.id = ei.employer_id\n",
    "                WHERE industry_id IS NULL\n",
    "                ) res\n",
    "            '''"
   ]
  },
  {
   "cell_type": "code",
   "execution_count": 107,
   "id": "Dp_yCx6ysQSu",
   "metadata": {
    "id": "Dp_yCx6ysQSu"
   },
   "outputs": [
    {
     "name": "stderr",
     "output_type": "stream",
     "text": [
      "C:\\Users\\vas98\\AppData\\Local\\Temp\\ipykernel_14864\\2490984470.py:2: UserWarning: pandas only supports SQLAlchemy connectable (engine/connection) or database string URI or sqlite3 DBAPI2 connection. Other DBAPI2 objects are not tested. Please consider using SQLAlchemy.\n",
      "  pd.read_sql(query_5_4, connection)\n"
     ]
    },
    {
     "data": {
      "text/html": [
       "<div>\n",
       "<style scoped>\n",
       "    .dataframe tbody tr th:only-of-type {\n",
       "        vertical-align: middle;\n",
       "    }\n",
       "\n",
       "    .dataframe tbody tr th {\n",
       "        vertical-align: top;\n",
       "    }\n",
       "\n",
       "    .dataframe thead th {\n",
       "        text-align: right;\n",
       "    }\n",
       "</style>\n",
       "<table border=\"1\" class=\"dataframe\">\n",
       "  <thead>\n",
       "    <tr style=\"text-align: right;\">\n",
       "      <th></th>\n",
       "      <th>count</th>\n",
       "    </tr>\n",
       "  </thead>\n",
       "  <tbody>\n",
       "    <tr>\n",
       "      <th>0</th>\n",
       "      <td>8419</td>\n",
       "    </tr>\n",
       "  </tbody>\n",
       "</table>\n",
       "</div>"
      ],
      "text/plain": [
       "   count\n",
       "0   8419"
      ]
     },
     "execution_count": 107,
     "metadata": {},
     "output_type": "execute_result"
    }
   ],
   "source": [
    "# результат запроса\n",
    "pd.read_sql(query_5_4, connection)"
   ]
  },
  {
   "cell_type": "code",
   "execution_count": 116,
   "id": "2353350e",
   "metadata": {},
   "outputs": [
    {
     "name": "stderr",
     "output_type": "stream",
     "text": [
      "C:\\Users\\vas98\\AppData\\Local\\Temp\\ipykernel_14864\\367347770.py:2: UserWarning: pandas only supports SQLAlchemy connectable (engine/connection) or database string URI or sqlite3 DBAPI2 connection. Other DBAPI2 objects are not tested. Please consider using SQLAlchemy.\n",
      "  'Доля компаний без указания сферы деятельности: ' + str(round((pd.read_sql(query_5_4, connection)['count'][0]/pd.read_sql(query_3_2, connection).count_employers[0])*100)) + '%'\n"
     ]
    },
    {
     "data": {
      "text/plain": [
       "'Доля компаний без указания сферы деятельности: 36%'"
      ]
     },
     "execution_count": 116,
     "metadata": {},
     "output_type": "execute_result"
    }
   ],
   "source": [
    "# Доля работодателей в %, у которых не указана сфера деятельности.\n",
    "'Доля компаний без указания сферы деятельности: ' + str(round((pd.read_sql(query_5_4, connection)['count'][0]/pd.read_sql(query_3_2, connection).count_employers[0])*100)) + '%'"
   ]
  },
  {
   "cell_type": "markdown",
   "id": "0112af31-f6b0-4e3b-82ab-71296e752e5e",
   "metadata": {
    "id": "0112af31-f6b0-4e3b-82ab-71296e752e5e"
   },
   "source": [
    "5. Напишите запрос, чтобы узнать название компании, находящейся на третьем месте в алфавитном списке (по названию) компаний, у которых указано четыре сферы деятельности. "
   ]
  },
  {
   "cell_type": "code",
   "execution_count": 17,
   "id": "973b0cfc-a972-470a-8b4a-68744ef220c4",
   "metadata": {
    "id": "973b0cfc-a972-470a-8b4a-68744ef220c4"
   },
   "outputs": [],
   "source": [
    "# текст запроса\n",
    "query_5_5 = f'''\n",
    "            SELECT e.id, e.name, COUNT(ei.industry_id)\n",
    "            FROM employers e\n",
    "            LEFT JOIN employers_industries ei ON e.id = ei.employer_id\n",
    "            GROUP BY e.id, e.name\n",
    "            HAVING COUNT(ei.industry_id) = 4\n",
    "            ORDER BY e.name\n",
    "            OFFSET 2 LIMIT 1\n",
    "            \n",
    "            '''"
   ]
  },
  {
   "cell_type": "code",
   "execution_count": 18,
   "id": "xsPtpp8EsaED",
   "metadata": {
    "id": "xsPtpp8EsaED"
   },
   "outputs": [
    {
     "name": "stderr",
     "output_type": "stream",
     "text": [
      "C:\\Users\\vas98\\AppData\\Local\\Temp\\ipykernel_16148\\331929018.py:2: UserWarning: pandas only supports SQLAlchemy connectable (engine/connection) or database string URI or sqlite3 DBAPI2 connection. Other DBAPI2 objects are not tested. Please consider using SQLAlchemy.\n",
      "  pd.read_sql(query_5_5, connection)\n"
     ]
    },
    {
     "data": {
      "text/html": [
       "<div>\n",
       "<style scoped>\n",
       "    .dataframe tbody tr th:only-of-type {\n",
       "        vertical-align: middle;\n",
       "    }\n",
       "\n",
       "    .dataframe tbody tr th {\n",
       "        vertical-align: top;\n",
       "    }\n",
       "\n",
       "    .dataframe thead th {\n",
       "        text-align: right;\n",
       "    }\n",
       "</style>\n",
       "<table border=\"1\" class=\"dataframe\">\n",
       "  <thead>\n",
       "    <tr style=\"text-align: right;\">\n",
       "      <th></th>\n",
       "      <th>id</th>\n",
       "      <th>name</th>\n",
       "      <th>count</th>\n",
       "    </tr>\n",
       "  </thead>\n",
       "  <tbody>\n",
       "    <tr>\n",
       "      <th>0</th>\n",
       "      <td>64174</td>\n",
       "      <td>2ГИС</td>\n",
       "      <td>4</td>\n",
       "    </tr>\n",
       "  </tbody>\n",
       "</table>\n",
       "</div>"
      ],
      "text/plain": [
       "      id  name  count\n",
       "0  64174  2ГИС      4"
      ]
     },
     "execution_count": 18,
     "metadata": {},
     "output_type": "execute_result"
    }
   ],
   "source": [
    "# результат запроса\n",
    "pd.read_sql(query_5_5, connection)"
   ]
  },
  {
   "cell_type": "markdown",
   "id": "3bfcfdaf-755d-4d2b-8ed8-326201dc07ab",
   "metadata": {
    "id": "3bfcfdaf-755d-4d2b-8ed8-326201dc07ab"
   },
   "source": [
    "6. С помощью запроса выясните, у какого количества работодателей в качестве сферы деятельности указана Разработка программного обеспечения.\n"
   ]
  },
  {
   "cell_type": "code",
   "execution_count": 20,
   "id": "ad3f270f-2991-47eb-929b-e8f88a55b0d1",
   "metadata": {
    "id": "ad3f270f-2991-47eb-929b-e8f88a55b0d1"
   },
   "outputs": [],
   "source": [
    "# текст запроса\n",
    "query_5_6 = f'''\n",
    "            SELECT COUNT(e.id) PO_cnt\n",
    "            FROM employers e\n",
    "            LEFT JOIN employers_industries ei ON e.id = ei.employer_id\n",
    "            LEFT JOIN industries i ON i.id = ei.industry_id\n",
    "            WHERE i.name = 'Разработка программного обеспечения'            \n",
    "            '''"
   ]
  },
  {
   "cell_type": "code",
   "execution_count": 37,
   "id": "H72qxWM0shPR",
   "metadata": {
    "id": "H72qxWM0shPR"
   },
   "outputs": [
    {
     "name": "stderr",
     "output_type": "stream",
     "text": [
      "C:\\Users\\vas98\\AppData\\Local\\Temp\\ipykernel_14864\\4145668947.py:2: UserWarning: pandas only supports SQLAlchemy connectable (engine/connection) or database string URI or sqlite3 DBAPI2 connection. Other DBAPI2 objects are not tested. Please consider using SQLAlchemy.\n",
      "  pd.read_sql(query_5_6, connection)\n"
     ]
    },
    {
     "data": {
      "text/html": [
       "<div>\n",
       "<style scoped>\n",
       "    .dataframe tbody tr th:only-of-type {\n",
       "        vertical-align: middle;\n",
       "    }\n",
       "\n",
       "    .dataframe tbody tr th {\n",
       "        vertical-align: top;\n",
       "    }\n",
       "\n",
       "    .dataframe thead th {\n",
       "        text-align: right;\n",
       "    }\n",
       "</style>\n",
       "<table border=\"1\" class=\"dataframe\">\n",
       "  <thead>\n",
       "    <tr style=\"text-align: right;\">\n",
       "      <th></th>\n",
       "      <th>po_cnt</th>\n",
       "    </tr>\n",
       "  </thead>\n",
       "  <tbody>\n",
       "    <tr>\n",
       "      <th>0</th>\n",
       "      <td>3553</td>\n",
       "    </tr>\n",
       "  </tbody>\n",
       "</table>\n",
       "</div>"
      ],
      "text/plain": [
       "   po_cnt\n",
       "0    3553"
      ]
     },
     "execution_count": 37,
     "metadata": {},
     "output_type": "execute_result"
    }
   ],
   "source": [
    "# результат запроса\n",
    "pd.read_sql(query_5_6, connection)"
   ]
  },
  {
   "cell_type": "code",
   "execution_count": 118,
   "id": "6dade19f",
   "metadata": {},
   "outputs": [
    {
     "name": "stderr",
     "output_type": "stream",
     "text": [
      "C:\\Users\\vas98\\AppData\\Local\\Temp\\ipykernel_14864\\3193420937.py:2: UserWarning: pandas only supports SQLAlchemy connectable (engine/connection) or database string URI or sqlite3 DBAPI2 connection. Other DBAPI2 objects are not tested. Please consider using SQLAlchemy.\n",
      "  'Доля компаний в сфере разработки ПО: '+str(round((pd.read_sql(query_5_6, connection).po_cnt[0]/pd.read_sql(query_3_2, connection).count_employers[0])*100))+'%'\n"
     ]
    },
    {
     "data": {
      "text/plain": [
       "'Доля компаний в сфере разработки ПО: 15%'"
      ]
     },
     "execution_count": 118,
     "metadata": {},
     "output_type": "execute_result"
    }
   ],
   "source": [
    "# Доля количества работодателей в %, у которых в качестве сферы деятельности указана \"Разработка программного обеспечения\".\n",
    "'Доля компаний в сфере разработки ПО: '+str(round((pd.read_sql(query_5_6, connection).po_cnt[0]/pd.read_sql(query_3_2, connection).count_employers[0])*100))+'%'"
   ]
  },
  {
   "cell_type": "markdown",
   "id": "7b02bb86-0546-40fb-94a4-242f050a5c57",
   "metadata": {
    "id": "7b02bb86-0546-40fb-94a4-242f050a5c57"
   },
   "source": [
    "7. Для компании «Яндекс» выведите список регионов-миллионников, в которых представлены вакансии компании, вместе с количеством вакансий в этих регионах. Также добавьте строку Total с общим количеством вакансий компании. Результат отсортируйте по возрастанию количества.\n",
    "\n",
    "Список городов-милионников надо взять [отсюда](https://ru.wikipedia.org/wiki/%D0%93%D0%BE%D1%80%D0%BE%D0%B4%D0%B0-%D0%BC%D0%B8%D0%BB%D0%BB%D0%B8%D0%BE%D0%BD%D0%B5%D1%80%D1%8B_%D0%A0%D0%BE%D1%81%D1%81%D0%B8%D0%B8). \n",
    "\n",
    "Если возникнут трудности с этим задание посмотрите материалы модуля  PYTHON-17. Как получать данные из веб-источников и API. "
   ]
  },
  {
   "cell_type": "code",
   "execution_count": 52,
   "id": "ZdfrL6gIs1Pn",
   "metadata": {
    "id": "ZdfrL6gIs1Pn"
   },
   "outputs": [],
   "source": [
    "# код для получения списка городов-милионников\n",
    "\n",
    "url = 'https://ru.wikipedia.org/wiki/Города-миллионеры_России' # Определяем значение URL страницы для запроса\n",
    "response = requests.get(url) # Делаем GET-запрос к ресурсу и результат ответа сохраняем в переменной response"
   ]
  },
  {
   "cell_type": "code",
   "execution_count": 53,
   "id": "5fb0f945",
   "metadata": {},
   "outputs": [
    {
     "data": {
      "text/plain": [
       "<Response [200]>"
      ]
     },
     "execution_count": 53,
     "metadata": {},
     "output_type": "execute_result"
    }
   ],
   "source": [
    "response"
   ]
  },
  {
   "cell_type": "code",
   "execution_count": 54,
   "id": "796001e6",
   "metadata": {},
   "outputs": [],
   "source": [
    "page = BeautifulSoup(response.text, 'html.parser')"
   ]
  },
  {
   "cell_type": "code",
   "execution_count": 55,
   "id": "b0088d62",
   "metadata": {},
   "outputs": [
    {
     "data": {
      "text/plain": [
       "'Москва'"
      ]
     },
     "execution_count": 55,
     "metadata": {},
     "output_type": "execute_result"
    }
   ],
   "source": [
    "page.find('table', class_='standard').find_all('tr')[1].find_all('td')[1].text"
   ]
  },
  {
   "cell_type": "code",
   "execution_count": 56,
   "id": "70a1eeb7",
   "metadata": {},
   "outputs": [],
   "source": [
    "# Достаём города-миллионники:\n",
    "html_cityData = page.find_all('table', class_='standard')[0].find_all('tr')\n",
    "millCities = []\n",
    "for i, k in enumerate(html_cityData):\n",
    "    # 0-й элемент не содержит города\n",
    "    if i > 0:\n",
    "        millCities.append(k.find_all('td')[1].text)"
   ]
  },
  {
   "cell_type": "code",
   "execution_count": 57,
   "id": "eb6706bd",
   "metadata": {},
   "outputs": [
    {
     "data": {
      "text/plain": [
       "('Москва',\n",
       " 'Санкт-Петербург',\n",
       " 'Новосибирск',\n",
       " 'Екатеринбург',\n",
       " 'Казань',\n",
       " 'Красноярск',\n",
       " 'Нижний Новгород',\n",
       " 'Челябинск',\n",
       " 'Уфа',\n",
       " 'Самара',\n",
       " 'Ростов-на-Дону',\n",
       " 'Краснодар',\n",
       " 'Омск',\n",
       " 'Воронеж',\n",
       " 'Пермь',\n",
       " 'Волгоград')"
      ]
     },
     "execution_count": 57,
     "metadata": {},
     "output_type": "execute_result"
    }
   ],
   "source": [
    "tuple(millCities)"
   ]
  },
  {
   "cell_type": "code",
   "execution_count": 96,
   "id": "b4db9e99",
   "metadata": {},
   "outputs": [],
   "source": [
    "# текст запроса\n",
    "query_5_7 = f'''\n",
    "        SELECT area, sum(cnt) FROM\n",
    "            ( \n",
    "            SELECT a.name area, count(v.id) as cnt\n",
    "            FROM vacancies v \n",
    "            JOIN employers e ON v.employer_id = e.id\n",
    "            JOIN areas a ON v.area_id = a.id\n",
    "            WHERE e.name = 'Яндекс'\n",
    "            AND a.name in {tuple(millCities)}\n",
    "            GROUP BY a.name\n",
    "            UNION\n",
    "            SELECT 'Total' as Total, count(v.id) as cnt\n",
    "            FROM vacancies v \n",
    "            JOIN employers e ON v.employer_id = e.id\n",
    "            JOIN areas a ON v.area_id = a.id\n",
    "            WHERE e.name = 'Яндекс'\n",
    "            AND a.name in {tuple(millCities)}\n",
    "            GROUP BY Total\n",
    "            ) sq\n",
    "        GROUP BY area\n",
    "        ORDER BY sum(cnt) DESC\n",
    "            '''"
   ]
  },
  {
   "cell_type": "code",
   "execution_count": 98,
   "id": "ttPhiO1rsvPq",
   "metadata": {
    "id": "ttPhiO1rsvPq"
   },
   "outputs": [
    {
     "name": "stderr",
     "output_type": "stream",
     "text": [
      "C:\\Users\\vas98\\AppData\\Local\\Temp\\ipykernel_14864\\681116011.py:2: UserWarning: pandas only supports SQLAlchemy connectable (engine/connection) or database string URI or sqlite3 DBAPI2 connection. Other DBAPI2 objects are not tested. Please consider using SQLAlchemy.\n",
      "  ml_cities = pd.read_sql(query_5_7, connection)\n"
     ]
    },
    {
     "data": {
      "text/html": [
       "<div>\n",
       "<style scoped>\n",
       "    .dataframe tbody tr th:only-of-type {\n",
       "        vertical-align: middle;\n",
       "    }\n",
       "\n",
       "    .dataframe tbody tr th {\n",
       "        vertical-align: top;\n",
       "    }\n",
       "\n",
       "    .dataframe thead th {\n",
       "        text-align: right;\n",
       "    }\n",
       "</style>\n",
       "<table border=\"1\" class=\"dataframe\">\n",
       "  <thead>\n",
       "    <tr style=\"text-align: right;\">\n",
       "      <th></th>\n",
       "      <th>area</th>\n",
       "      <th>sum</th>\n",
       "    </tr>\n",
       "  </thead>\n",
       "  <tbody>\n",
       "    <tr>\n",
       "      <th>0</th>\n",
       "      <td>Total</td>\n",
       "      <td>485.0</td>\n",
       "    </tr>\n",
       "    <tr>\n",
       "      <th>1</th>\n",
       "      <td>Москва</td>\n",
       "      <td>54.0</td>\n",
       "    </tr>\n",
       "    <tr>\n",
       "      <th>2</th>\n",
       "      <td>Санкт-Петербург</td>\n",
       "      <td>42.0</td>\n",
       "    </tr>\n",
       "    <tr>\n",
       "      <th>3</th>\n",
       "      <td>Екатеринбург</td>\n",
       "      <td>39.0</td>\n",
       "    </tr>\n",
       "    <tr>\n",
       "      <th>4</th>\n",
       "      <td>Нижний Новгород</td>\n",
       "      <td>36.0</td>\n",
       "    </tr>\n",
       "    <tr>\n",
       "      <th>5</th>\n",
       "      <td>Новосибирск</td>\n",
       "      <td>35.0</td>\n",
       "    </tr>\n",
       "    <tr>\n",
       "      <th>6</th>\n",
       "      <td>Воронеж</td>\n",
       "      <td>32.0</td>\n",
       "    </tr>\n",
       "    <tr>\n",
       "      <th>7</th>\n",
       "      <td>Краснодар</td>\n",
       "      <td>30.0</td>\n",
       "    </tr>\n",
       "    <tr>\n",
       "      <th>8</th>\n",
       "      <td>Самара</td>\n",
       "      <td>26.0</td>\n",
       "    </tr>\n",
       "    <tr>\n",
       "      <th>9</th>\n",
       "      <td>Уфа</td>\n",
       "      <td>26.0</td>\n",
       "    </tr>\n",
       "    <tr>\n",
       "      <th>10</th>\n",
       "      <td>Пермь</td>\n",
       "      <td>25.0</td>\n",
       "    </tr>\n",
       "    <tr>\n",
       "      <th>11</th>\n",
       "      <td>Казань</td>\n",
       "      <td>25.0</td>\n",
       "    </tr>\n",
       "    <tr>\n",
       "      <th>12</th>\n",
       "      <td>Ростов-на-Дону</td>\n",
       "      <td>25.0</td>\n",
       "    </tr>\n",
       "    <tr>\n",
       "      <th>13</th>\n",
       "      <td>Волгоград</td>\n",
       "      <td>24.0</td>\n",
       "    </tr>\n",
       "    <tr>\n",
       "      <th>14</th>\n",
       "      <td>Красноярск</td>\n",
       "      <td>23.0</td>\n",
       "    </tr>\n",
       "    <tr>\n",
       "      <th>15</th>\n",
       "      <td>Челябинск</td>\n",
       "      <td>22.0</td>\n",
       "    </tr>\n",
       "    <tr>\n",
       "      <th>16</th>\n",
       "      <td>Омск</td>\n",
       "      <td>21.0</td>\n",
       "    </tr>\n",
       "  </tbody>\n",
       "</table>\n",
       "</div>"
      ],
      "text/plain": [
       "               area    sum\n",
       "0             Total  485.0\n",
       "1            Москва   54.0\n",
       "2   Санкт-Петербург   42.0\n",
       "3      Екатеринбург   39.0\n",
       "4   Нижний Новгород   36.0\n",
       "5       Новосибирск   35.0\n",
       "6           Воронеж   32.0\n",
       "7         Краснодар   30.0\n",
       "8            Самара   26.0\n",
       "9               Уфа   26.0\n",
       "10            Пермь   25.0\n",
       "11           Казань   25.0\n",
       "12   Ростов-на-Дону   25.0\n",
       "13        Волгоград   24.0\n",
       "14       Красноярск   23.0\n",
       "15        Челябинск   22.0\n",
       "16             Омск   21.0"
      ]
     },
     "execution_count": 98,
     "metadata": {},
     "output_type": "execute_result"
    }
   ],
   "source": [
    "# результат запроса\n",
    "ml_cities = pd.read_sql(query_5_7, connection)\n",
    "ml_cities"
   ]
  },
  {
   "cell_type": "code",
   "execution_count": 103,
   "id": "82a572fe",
   "metadata": {},
   "outputs": [
    {
     "data": {
      "text/plain": [
       "485.0"
      ]
     },
     "execution_count": 103,
     "metadata": {},
     "output_type": "execute_result"
    }
   ],
   "source": [
    "ml_cities[ml_cities['area']=='Total']['sum'][0]"
   ]
  },
  {
   "cell_type": "code",
   "execution_count": 104,
   "id": "a2030678",
   "metadata": {},
   "outputs": [
    {
     "name": "stderr",
     "output_type": "stream",
     "text": [
      "C:\\Users\\vas98\\AppData\\Local\\Temp\\ipykernel_14864\\418670210.py:2: UserWarning: pandas only supports SQLAlchemy connectable (engine/connection) or database string URI or sqlite3 DBAPI2 connection. Other DBAPI2 objects are not tested. Please consider using SQLAlchemy.\n",
      "  'Доля компаний из городов-миллионников: '+str(round((ml_cities[ml_cities['area']=='Total']['sum'][0]/pd.read_sql(query_3_1, connection).count_all_vacancies[0])*100))+'%'\n"
     ]
    },
    {
     "data": {
      "text/plain": [
       "'Доля компаний из городов-миллионников: 1%'"
      ]
     },
     "execution_count": 104,
     "metadata": {},
     "output_type": "execute_result"
    }
   ],
   "source": [
    "# Доля количества работодателей из городов-миллионников в %.\n",
    "'Доля компаний из городов-миллионников: '+str(round((ml_cities[ml_cities['area']=='Total']['sum'][0]/pd.read_sql(query_3_1, connection).count_all_vacancies[0])*100))+'%'"
   ]
  },
  {
   "cell_type": "markdown",
   "id": "04966e40-3bc3-4dc8-9ba2-e80580ce3abc",
   "metadata": {
    "id": "04966e40-3bc3-4dc8-9ba2-e80580ce3abc"
   },
   "source": [
    "***"
   ]
  },
  {
   "cell_type": "markdown",
   "id": "351e7f51",
   "metadata": {
    "id": "aGGyER-yt4SR"
   },
   "source": [
    "Выводы по анализу работодателей\n",
    "1. Первые 5 мест занимают: Яндекс (1933), Ростелеком\t(491), Тинькофф\t(444),СБЕР (428), Газпром нефть\t(331). При чём Яндекс по количеству вакансий значительно превышает другие компании. Возможно, это связано с разделением компании и с тем, что многие сотрудники уволились или остались в иностранном Яндексе.\n",
    "2. Среди регионов, в которых нет вакансий, в России наибольшее количество работодателей. В принципе вакансий нет в странах, регионах (областях), или очень небольших городах. То есть, в России, на самом деле, есть вакансии, т.к. Москва, Санкт-Петербург и др. это города России.\n",
    "3. Яндекс публикует вакансии в наибольшем количестве регионов. \n",
    "4. 36% - доля компаний, у которых не указана сфера деятельности.\n",
    "5. 2ГИС находится на третьем месте в алфавитном списке (по названию) компаний, у которых указано четыре сферы деятельности.\n",
    "6. Разработка ПО как сфера деятельности указана у 15% работодателей.\n",
    "7. Вакансий Яндекса в городах-миллионниках 1% из всех вакансий. Несмотря на то, что вакансий у Яндекса намного больше, чем у других компаний, в процентном отношении это немного."
   ]
  },
  {
   "cell_type": "markdown",
   "id": "b1ef156a-efcb-49ce-bb23-90763e7f35b2",
   "metadata": {
    "id": "b1ef156a-efcb-49ce-bb23-90763e7f35b2",
    "tags": []
   },
   "source": [
    "# Юнит 6. Предметный анализ"
   ]
  },
  {
   "cell_type": "markdown",
   "id": "b9cd50a0-992d-4988-8463-2b2b1c4629b4",
   "metadata": {
    "id": "b9cd50a0-992d-4988-8463-2b2b1c4629b4"
   },
   "source": [
    "1. Сколько вакансий имеет отношение к данным?\n",
    "\n",
    "Считаем, что вакансия имеет отношение к данным, если в её названии содержатся слова 'data' или 'данн'.\n",
    "\n",
    "*Подсказка: Обратите внимание, что названия вакансий могут быть написаны в любом регистре.* \n"
   ]
  },
  {
   "cell_type": "code",
   "execution_count": 28,
   "id": "54ab0e50-c0f1-47cc-a54b-bc5c8bc363f9",
   "metadata": {
    "id": "54ab0e50-c0f1-47cc-a54b-bc5c8bc363f9"
   },
   "outputs": [],
   "source": [
    "# текст запроса\n",
    "# ILIKE - позволяет не учитывать регистр\n",
    "query_6_1 = f'''\n",
    "            SELECT COUNT(v.name)\n",
    "            FROM vacancies v\n",
    "            WHERE lower(v.name) LIKE  '%data%'  OR v.name ILIKE  '%данн%'\n",
    "            '''"
   ]
  },
  {
   "cell_type": "code",
   "execution_count": 122,
   "id": "60125963",
   "metadata": {},
   "outputs": [
    {
     "name": "stderr",
     "output_type": "stream",
     "text": [
      "C:\\Users\\vas98\\AppData\\Local\\Temp\\ipykernel_14864\\3509547027.py:2: UserWarning: pandas only supports SQLAlchemy connectable (engine/connection) or database string URI or sqlite3 DBAPI2 connection. Other DBAPI2 objects are not tested. Please consider using SQLAlchemy.\n",
      "  pd.read_sql(query_6_1, connection)\n"
     ]
    },
    {
     "data": {
      "text/html": [
       "<div>\n",
       "<style scoped>\n",
       "    .dataframe tbody tr th:only-of-type {\n",
       "        vertical-align: middle;\n",
       "    }\n",
       "\n",
       "    .dataframe tbody tr th {\n",
       "        vertical-align: top;\n",
       "    }\n",
       "\n",
       "    .dataframe thead th {\n",
       "        text-align: right;\n",
       "    }\n",
       "</style>\n",
       "<table border=\"1\" class=\"dataframe\">\n",
       "  <thead>\n",
       "    <tr style=\"text-align: right;\">\n",
       "      <th></th>\n",
       "      <th>count</th>\n",
       "    </tr>\n",
       "  </thead>\n",
       "  <tbody>\n",
       "    <tr>\n",
       "      <th>0</th>\n",
       "      <td>1771</td>\n",
       "    </tr>\n",
       "  </tbody>\n",
       "</table>\n",
       "</div>"
      ],
      "text/plain": [
       "   count\n",
       "0   1771"
      ]
     },
     "execution_count": 122,
     "metadata": {},
     "output_type": "execute_result"
    }
   ],
   "source": [
    "# результат запроса\n",
    "pd.read_sql(query_6_1, connection)"
   ]
  },
  {
   "cell_type": "code",
   "execution_count": 111,
   "id": "9F1meAqsuUjd",
   "metadata": {
    "id": "9F1meAqsuUjd"
   },
   "outputs": [
    {
     "name": "stderr",
     "output_type": "stream",
     "text": [
      "C:\\Users\\vas98\\AppData\\Local\\Temp\\ipykernel_14864\\3509547027.py:2: UserWarning: pandas only supports SQLAlchemy connectable (engine/connection) or database string URI or sqlite3 DBAPI2 connection. Other DBAPI2 objects are not tested. Please consider using SQLAlchemy.\n",
      "  pd.read_sql(query_6_1, connection)\n"
     ]
    },
    {
     "data": {
      "text/html": [
       "<div>\n",
       "<style scoped>\n",
       "    .dataframe tbody tr th:only-of-type {\n",
       "        vertical-align: middle;\n",
       "    }\n",
       "\n",
       "    .dataframe tbody tr th {\n",
       "        vertical-align: top;\n",
       "    }\n",
       "\n",
       "    .dataframe thead th {\n",
       "        text-align: right;\n",
       "    }\n",
       "</style>\n",
       "<table border=\"1\" class=\"dataframe\">\n",
       "  <thead>\n",
       "    <tr style=\"text-align: right;\">\n",
       "      <th></th>\n",
       "      <th>name</th>\n",
       "    </tr>\n",
       "  </thead>\n",
       "  <tbody>\n",
       "    <tr>\n",
       "      <th>0</th>\n",
       "      <td>Аналитик хранилищ данных и BI-систем/Аналитик ...</td>\n",
       "    </tr>\n",
       "    <tr>\n",
       "      <th>1</th>\n",
       "      <td>Data-analysts (удаленно)</td>\n",
       "    </tr>\n",
       "    <tr>\n",
       "      <th>2</th>\n",
       "      <td>Стажер Data Engineer/Data Аналитик в команду Б...</td>\n",
       "    </tr>\n",
       "    <tr>\n",
       "      <th>3</th>\n",
       "      <td>Старший специалист хранилищ данных</td>\n",
       "    </tr>\n",
       "    <tr>\n",
       "      <th>4</th>\n",
       "      <td>Администратор баз данных и сетей</td>\n",
       "    </tr>\n",
       "    <tr>\n",
       "      <th>...</th>\n",
       "      <td>...</td>\n",
       "    </tr>\n",
       "    <tr>\n",
       "      <th>1766</th>\n",
       "      <td>Программист Delphi / разработчик баз данных</td>\n",
       "    </tr>\n",
       "    <tr>\n",
       "      <th>1767</th>\n",
       "      <td>Разработчик баз данных (Big Data)</td>\n",
       "    </tr>\n",
       "    <tr>\n",
       "      <th>1768</th>\n",
       "      <td>Аналитик данных</td>\n",
       "    </tr>\n",
       "    <tr>\n",
       "      <th>1769</th>\n",
       "      <td>Data аналитик /Аналитик BI (удаленно)</td>\n",
       "    </tr>\n",
       "    <tr>\n",
       "      <th>1770</th>\n",
       "      <td>DataOps Engineer</td>\n",
       "    </tr>\n",
       "  </tbody>\n",
       "</table>\n",
       "<p>1771 rows × 1 columns</p>\n",
       "</div>"
      ],
      "text/plain": [
       "                                                   name\n",
       "0     Аналитик хранилищ данных и BI-систем/Аналитик ...\n",
       "1                              Data-analysts (удаленно)\n",
       "2     Стажер Data Engineer/Data Аналитик в команду Б...\n",
       "3                    Старший специалист хранилищ данных\n",
       "4                      Администратор баз данных и сетей\n",
       "...                                                 ...\n",
       "1766        Программист Delphi / разработчик баз данных\n",
       "1767                  Разработчик баз данных (Big Data)\n",
       "1768                                    Аналитик данных\n",
       "1769              Data аналитик /Аналитик BI (удаленно)\n",
       "1770                                   DataOps Engineer\n",
       "\n",
       "[1771 rows x 1 columns]"
      ]
     },
     "execution_count": 111,
     "metadata": {},
     "output_type": "execute_result"
    }
   ],
   "source": [
    "# результат запроса\n",
    "pd.read_sql(query_6_1, connection)"
   ]
  },
  {
   "cell_type": "code",
   "execution_count": 128,
   "id": "50572f23",
   "metadata": {},
   "outputs": [
    {
     "name": "stderr",
     "output_type": "stream",
     "text": [
      "C:\\Users\\vas98\\AppData\\Local\\Temp\\ipykernel_14864\\2739961819.py:2: UserWarning: pandas only supports SQLAlchemy connectable (engine/connection) or database string URI or sqlite3 DBAPI2 connection. Other DBAPI2 objects are not tested. Please consider using SQLAlchemy.\n",
      "  'Доля вакансий в сфере разработки ПО: ' + str(round((pd.read_sql(query_6_1, connection)['count'][0]/pd.read_sql(query_3_1, connection).count_all_vacancies[0])*100)) + '%'\n"
     ]
    },
    {
     "data": {
      "text/plain": [
       "'Доля вакансий в сфере разработки ПО: 4%'"
      ]
     },
     "execution_count": 128,
     "metadata": {},
     "output_type": "execute_result"
    }
   ],
   "source": [
    "# Доля количества вакансий в %, имеющих отношение к данным.\n",
    "'Доля вакансий в сфере работы с данными: ' + str(round((pd.read_sql(query_6_1, connection)['count'][0]/pd.read_sql(query_3_1, connection).count_all_vacancies[0])*100)) + '%'"
   ]
  },
  {
   "cell_type": "markdown",
   "id": "4dea20cb-a36b-474a-a0b9-e08e8e3857a5",
   "metadata": {
    "id": "4dea20cb-a36b-474a-a0b9-e08e8e3857a5"
   },
   "source": [
    "2. Сколько есть подходящих вакансий для начинающего дата-сайентиста? \n",
    "Будем считать вакансиями для дата-сайентистов такие, в названии которых есть хотя бы одно из следующих сочетаний:\n",
    "* 'data scientist'\n",
    "* 'data science'\n",
    "* 'исследователь данных'\n",
    "* 'ML' (здесь не нужно брать вакансии по HTML)\n",
    "* 'machine learning'\n",
    "* 'машинн%обучен%'\n",
    "\n",
    "** В следующих заданиях мы продолжим работать с вакансиями по этому условию.*\n",
    "\n",
    "Считаем вакансиями для специалистов уровня Junior следующие:\n",
    "* в названии есть слово 'junior' *или*\n",
    "* требуемый опыт — Нет опыта *или*\n",
    "* тип трудоустройства — Стажировка.\n",
    " "
   ]
  },
  {
   "cell_type": "code",
   "execution_count": 22,
   "id": "9c61b3c0-bb66-46c9-ae1e-81d3f5752b4a",
   "metadata": {
    "id": "9c61b3c0-bb66-46c9-ae1e-81d3f5752b4a"
   },
   "outputs": [],
   "source": [
    "# текст запроса\n",
    "query_6_2 = f'''\n",
    "            SELECT COUNT(*)\n",
    "            FROM vacancies v\n",
    "            WHERE \n",
    "           (v.name ILIKE  '%data scientist%'  OR \n",
    "            v.name ILIKE  '%data science%' OR\n",
    "            v.name ILIKE  '%исследователь данных%'  OR \n",
    "            v.name ILIKE  '%ML%' OR\n",
    "            v.name ILIKE  '%machine learning%'  OR \n",
    "            v.name ILIKE  '%машинн%обучен%')\n",
    "            AND\n",
    "            v.name NOT ILIKE  '%html%'\n",
    "            AND\n",
    "           (v.name ILIKE  '%junior%' OR\n",
    "            v.experience ILIKE  '%нет опыта%' OR\n",
    "            v.employment ILIKE '%стажировка%')\n",
    "            '''"
   ]
  },
  {
   "cell_type": "code",
   "execution_count": 134,
   "id": "ZNM-LLYuu1dj",
   "metadata": {
    "id": "ZNM-LLYuu1dj"
   },
   "outputs": [
    {
     "name": "stderr",
     "output_type": "stream",
     "text": [
      "C:\\Users\\vas98\\AppData\\Local\\Temp\\ipykernel_14864\\1713377939.py:2: UserWarning: pandas only supports SQLAlchemy connectable (engine/connection) or database string URI or sqlite3 DBAPI2 connection. Other DBAPI2 objects are not tested. Please consider using SQLAlchemy.\n",
      "  pd.read_sql(query_6_2, connection)\n"
     ]
    },
    {
     "data": {
      "text/html": [
       "<div>\n",
       "<style scoped>\n",
       "    .dataframe tbody tr th:only-of-type {\n",
       "        vertical-align: middle;\n",
       "    }\n",
       "\n",
       "    .dataframe tbody tr th {\n",
       "        vertical-align: top;\n",
       "    }\n",
       "\n",
       "    .dataframe thead th {\n",
       "        text-align: right;\n",
       "    }\n",
       "</style>\n",
       "<table border=\"1\" class=\"dataframe\">\n",
       "  <thead>\n",
       "    <tr style=\"text-align: right;\">\n",
       "      <th></th>\n",
       "      <th>count</th>\n",
       "    </tr>\n",
       "  </thead>\n",
       "  <tbody>\n",
       "    <tr>\n",
       "      <th>0</th>\n",
       "      <td>51</td>\n",
       "    </tr>\n",
       "  </tbody>\n",
       "</table>\n",
       "</div>"
      ],
      "text/plain": [
       "   count\n",
       "0     51"
      ]
     },
     "execution_count": 134,
     "metadata": {},
     "output_type": "execute_result"
    }
   ],
   "source": [
    "# результат запроса\n",
    "pd.read_sql(query_6_2, connection)"
   ]
  },
  {
   "cell_type": "code",
   "execution_count": 137,
   "id": "05d2bad1",
   "metadata": {},
   "outputs": [
    {
     "name": "stderr",
     "output_type": "stream",
     "text": [
      "C:\\Users\\vas98\\AppData\\Local\\Temp\\ipykernel_14864\\871220993.py:2: UserWarning: pandas only supports SQLAlchemy connectable (engine/connection) or database string URI or sqlite3 DBAPI2 connection. Other DBAPI2 objects are not tested. Please consider using SQLAlchemy.\n",
      "  'Доля вакансий для начинающего дата-сайентиста: ' + str(round((pd.read_sql(query_6_2, connection)['count'][0]/pd.read_sql(query_3_1, connection).count_all_vacancies[0])*100, 2)) + '%'\n"
     ]
    },
    {
     "data": {
      "text/plain": [
       "'Доля вакансий для начинающего дата-сайентиста: 0.1%'"
      ]
     },
     "execution_count": 137,
     "metadata": {},
     "output_type": "execute_result"
    }
   ],
   "source": [
    "# Доля вакансий в %, подходящих для начинающего дата-сайентиста.\n",
    "'Доля вакансий для начинающего дата-сайентиста: ' + str(round((pd.read_sql(query_6_2, connection)['count'][0]/pd.read_sql(query_3_1, connection).count_all_vacancies[0])*100, 2)) + '%'"
   ]
  },
  {
   "cell_type": "code",
   "execution_count": 23,
   "id": "5c515950",
   "metadata": {},
   "outputs": [],
   "source": [
    "# Количество вакансий датасайентиста (не только начиающего)\n",
    "query_ds = f'''       \n",
    "            SELECT COUNT(id)\n",
    "            FROM\n",
    "            vacancies \n",
    "            WHERE\n",
    "            ( name ILIKE '%data scientist%' OR \n",
    "              name ILIKE '%data science%' OR \n",
    "              name ILIKE '%исследователь данных%' OR \n",
    "              name ILIKE '%machine learning%' OR \n",
    "              name ILIKE '%машинн%обучен%' OR \n",
    "              name ILIKE '%ML%' AND name NOT ILIKE '%HTML%' )\n",
    "            '''"
   ]
  },
  {
   "cell_type": "markdown",
   "id": "eedceb80-c5ca-480e-b27a-278dfb8b4438",
   "metadata": {
    "id": "eedceb80-c5ca-480e-b27a-278dfb8b4438"
   },
   "source": [
    "3. Сколько есть вакансий для DS, в которых в качестве ключевого навыка указан SQL или postgres?\n",
    "\n",
    "** Критерии для отнесения вакансии к DS указаны в предыдущем задании.*"
   ]
  },
  {
   "cell_type": "code",
   "execution_count": 24,
   "id": "6d602b20",
   "metadata": {},
   "outputs": [],
   "source": [
    "query_6_3 = f'''       \n",
    "            SELECT count(id)\n",
    "            FROM\n",
    "            vacancies \n",
    "            WHERE\n",
    "            ( name ILIKE '%data scientist%' OR \n",
    "              name ILIKE '%data science%' OR \n",
    "              name ILIKE '%исследователь данных%' OR \n",
    "              name ILIKE '%machine learning%' OR \n",
    "              name ILIKE '%машинн%обучен%' OR \n",
    "              name ILIKE '%ML%' AND name NOT ILIKE '%HTML%' )\n",
    "            AND\n",
    "            ( key_skills ILIKE '%SQL%' OR key_skills ILIKE '%postgres%' )\n",
    "            '''"
   ]
  },
  {
   "cell_type": "code",
   "execution_count": 152,
   "id": "alA8WEAAvGdf",
   "metadata": {
    "id": "alA8WEAAvGdf"
   },
   "outputs": [
    {
     "name": "stderr",
     "output_type": "stream",
     "text": [
      "C:\\Users\\vas98\\AppData\\Local\\Temp\\ipykernel_14864\\1854231114.py:2: UserWarning: pandas only supports SQLAlchemy connectable (engine/connection) or database string URI or sqlite3 DBAPI2 connection. Other DBAPI2 objects are not tested. Please consider using SQLAlchemy.\n",
      "  pd.read_sql(query_6_3, connection)\n"
     ]
    },
    {
     "data": {
      "text/html": [
       "<div>\n",
       "<style scoped>\n",
       "    .dataframe tbody tr th:only-of-type {\n",
       "        vertical-align: middle;\n",
       "    }\n",
       "\n",
       "    .dataframe tbody tr th {\n",
       "        vertical-align: top;\n",
       "    }\n",
       "\n",
       "    .dataframe thead th {\n",
       "        text-align: right;\n",
       "    }\n",
       "</style>\n",
       "<table border=\"1\" class=\"dataframe\">\n",
       "  <thead>\n",
       "    <tr style=\"text-align: right;\">\n",
       "      <th></th>\n",
       "      <th>count</th>\n",
       "    </tr>\n",
       "  </thead>\n",
       "  <tbody>\n",
       "    <tr>\n",
       "      <th>0</th>\n",
       "      <td>229</td>\n",
       "    </tr>\n",
       "  </tbody>\n",
       "</table>\n",
       "</div>"
      ],
      "text/plain": [
       "   count\n",
       "0    229"
      ]
     },
     "execution_count": 152,
     "metadata": {},
     "output_type": "execute_result"
    }
   ],
   "source": [
    "# результат запроса\n",
    "pd.read_sql(query_6_3, connection)"
   ]
  },
  {
   "cell_type": "code",
   "execution_count": 153,
   "id": "51bccea9",
   "metadata": {},
   "outputs": [
    {
     "name": "stderr",
     "output_type": "stream",
     "text": [
      "C:\\Users\\vas98\\AppData\\Local\\Temp\\ipykernel_14864\\4125284600.py:2: UserWarning: pandas only supports SQLAlchemy connectable (engine/connection) or database string URI or sqlite3 DBAPI2 connection. Other DBAPI2 objects are not tested. Please consider using SQLAlchemy.\n",
      "  'Доля вакансий с ключевым навыком SQL или postgres: ' + str(round((pd.read_sql(query_6_3, connection)['count'][0]/pd.read_sql(query_3_1, connection).count_all_vacancies[0])*100, 2)) + '%'\n"
     ]
    },
    {
     "data": {
      "text/plain": [
       "'Доля вакансий с ключевым навыком SQL или postgres: 0.47%'"
      ]
     },
     "execution_count": 153,
     "metadata": {},
     "output_type": "execute_result"
    }
   ],
   "source": [
    "# Доля вакансий в % с ключевым навыком SQL или postgres.\n",
    "'Доля вакансий с ключевым навыком SQL или postgres: ' + str(round((pd.read_sql(query_6_3, connection)['count'][0]/pd.read_sql(query_3_1, connection).count_all_vacancies[0])*100, 2)) + '%'"
   ]
  },
  {
   "cell_type": "markdown",
   "id": "1be1e9c6-37cf-4a5f-bfeb-04cab799dc80",
   "metadata": {
    "id": "1be1e9c6-37cf-4a5f-bfeb-04cab799dc80"
   },
   "source": [
    "4. Проверьте, насколько популярен Python в требованиях работодателей к DS. Для этого вычислите количество вакансий, в которых в качестве ключевого навыка указан Python.\n",
    "\n",
    "** Это можно сделать помощью запроса, аналогичного предыдущему.*"
   ]
  },
  {
   "cell_type": "code",
   "execution_count": 25,
   "id": "59ff6f39",
   "metadata": {},
   "outputs": [],
   "source": [
    "# текст запроса\n",
    "query_6_4 = f'''       \n",
    "            SELECT COUNT(id)\n",
    "            FROM\n",
    "            vacancies \n",
    "            WHERE\n",
    "            ( name ILIKE '%data scientist%' OR \n",
    "              name ILIKE '%data science%' OR \n",
    "              name ILIKE '%исследователь данных%' OR \n",
    "              name ILIKE '%machine learning%' OR \n",
    "              name ILIKE '%машинн%обучен%' OR \n",
    "              name ILIKE '%ML%' AND name NOT ILIKE '%HTML%' )\n",
    "            AND\n",
    "            (key_skills ILIKE  '%python%')\n",
    "            '''"
   ]
  },
  {
   "cell_type": "code",
   "execution_count": 146,
   "id": "0d635a9a",
   "metadata": {},
   "outputs": [
    {
     "name": "stderr",
     "output_type": "stream",
     "text": [
      "C:\\Users\\vas98\\AppData\\Local\\Temp\\ipykernel_14864\\1037671022.py:2: UserWarning: pandas only supports SQLAlchemy connectable (engine/connection) or database string URI or sqlite3 DBAPI2 connection. Other DBAPI2 objects are not tested. Please consider using SQLAlchemy.\n",
      "  pd.read_sql(query_6_4, connection)\n"
     ]
    },
    {
     "data": {
      "text/html": [
       "<div>\n",
       "<style scoped>\n",
       "    .dataframe tbody tr th:only-of-type {\n",
       "        vertical-align: middle;\n",
       "    }\n",
       "\n",
       "    .dataframe tbody tr th {\n",
       "        vertical-align: top;\n",
       "    }\n",
       "\n",
       "    .dataframe thead th {\n",
       "        text-align: right;\n",
       "    }\n",
       "</style>\n",
       "<table border=\"1\" class=\"dataframe\">\n",
       "  <thead>\n",
       "    <tr style=\"text-align: right;\">\n",
       "      <th></th>\n",
       "      <th>count</th>\n",
       "    </tr>\n",
       "  </thead>\n",
       "  <tbody>\n",
       "    <tr>\n",
       "      <th>0</th>\n",
       "      <td>357</td>\n",
       "    </tr>\n",
       "  </tbody>\n",
       "</table>\n",
       "</div>"
      ],
      "text/plain": [
       "   count\n",
       "0    357"
      ]
     },
     "execution_count": 146,
     "metadata": {},
     "output_type": "execute_result"
    }
   ],
   "source": [
    "# результат запроса\n",
    "pd.read_sql(query_6_4, connection)"
   ]
  },
  {
   "cell_type": "markdown",
   "id": "ec3c8db7-fa21-4a41-a994-1af63742a642",
   "metadata": {
    "id": "ec3c8db7-fa21-4a41-a994-1af63742a642"
   },
   "source": [
    "5. Сколько ключевых навыков в среднем указывают в вакансиях для DS?\n",
    "Ответ округлите до двух знаков после точки-разделителя."
   ]
  },
  {
   "cell_type": "code",
   "execution_count": 26,
   "id": "709e8c34",
   "metadata": {},
   "outputs": [],
   "source": [
    "# текст запроса\n",
    "query_6_5 = f'''       \n",
    "            SELECT ROUND(AVG(ARRAY_LENGTH(STRING_TO_ARRAY(key_skills, '\\t'), 1)), 2)\n",
    "            FROM\n",
    "            vacancies \n",
    "            WHERE\n",
    "            ( name ILIKE '%data scientist%' OR \n",
    "              name ILIKE '%data science%' OR \n",
    "              name ILIKE '%исследователь данных%' OR \n",
    "              name ILIKE '%machine learning%' OR \n",
    "              name ILIKE '%машинн%обучен%' OR \n",
    "              name LIKE '%ML%' AND name NOT ILIKE '%HTML%' )\n",
    "            '''"
   ]
  },
  {
   "cell_type": "code",
   "execution_count": 46,
   "id": "a3V24Tvmviqk",
   "metadata": {
    "id": "a3V24Tvmviqk"
   },
   "outputs": [
    {
     "name": "stderr",
     "output_type": "stream",
     "text": [
      "C:\\Users\\vas98\\AppData\\Local\\Temp\\ipykernel_11220\\1122606378.py:2: UserWarning: pandas only supports SQLAlchemy connectable (engine/connection) or database string URI or sqlite3 DBAPI2 connection. Other DBAPI2 objects are not tested. Please consider using SQLAlchemy.\n",
      "  pd.read_sql(query_6_5, connection)\n"
     ]
    },
    {
     "data": {
      "text/html": [
       "<div>\n",
       "<style scoped>\n",
       "    .dataframe tbody tr th:only-of-type {\n",
       "        vertical-align: middle;\n",
       "    }\n",
       "\n",
       "    .dataframe tbody tr th {\n",
       "        vertical-align: top;\n",
       "    }\n",
       "\n",
       "    .dataframe thead th {\n",
       "        text-align: right;\n",
       "    }\n",
       "</style>\n",
       "<table border=\"1\" class=\"dataframe\">\n",
       "  <thead>\n",
       "    <tr style=\"text-align: right;\">\n",
       "      <th></th>\n",
       "      <th>round</th>\n",
       "    </tr>\n",
       "  </thead>\n",
       "  <tbody>\n",
       "    <tr>\n",
       "      <th>0</th>\n",
       "      <td>6.41</td>\n",
       "    </tr>\n",
       "  </tbody>\n",
       "</table>\n",
       "</div>"
      ],
      "text/plain": [
       "   round\n",
       "0   6.41"
      ]
     },
     "execution_count": 46,
     "metadata": {},
     "output_type": "execute_result"
    }
   ],
   "source": [
    "# результат запроса\n",
    "pd.read_sql(query_6_5, connection)"
   ]
  },
  {
   "cell_type": "markdown",
   "id": "1041c17a-ca8f-4543-a0ca-32778914fb00",
   "metadata": {
    "id": "1041c17a-ca8f-4543-a0ca-32778914fb00"
   },
   "source": [
    "6. Напишите запрос, позволяющий вычислить, какую зарплату для DS в **среднем** указывают для каждого типа требуемого опыта (уникальное значение из поля *experience*). \n",
    "\n",
    "При решении задачи примите во внимание следующее:\n",
    "1. Рассматриваем только вакансии, у которых заполнено хотя бы одно из двух полей с зарплатой.\n",
    "2. Если заполнены оба поля с зарплатой, то считаем зарплату по каждой вакансии как сумму двух полей, делённую на 2. Если заполнено только одно из полей, то его и считаем зарплатой по вакансии.\n",
    "3. Если в расчётах участвует null, в результате он тоже даст null (посмотрите, что возвращает запрос select 1 + null). Чтобы избежать этой ситуацию, мы воспользуемся функцией [coalesce](https://postgrespro.ru/docs/postgresql/9.5/functions-conditional#functions-coalesce-nvl-ifnull), которая заменит null на значение, которое мы передадим. Например, посмотрите, что возвращает запрос `select 1 + coalesce(null, 0)`\n",
    "\n",
    "Выясните, на какую зарплату в среднем может рассчитывать дата-сайентист с опытом работы от 3 до 6 лет. Результат округлите до целого числа. "
   ]
  },
  {
   "cell_type": "code",
   "execution_count": 9,
   "id": "140c2e40",
   "metadata": {},
   "outputs": [],
   "source": [
    "# текст запроса:\n",
    "query_6_6 = f'''\n",
    "            select\n",
    "            v.experience, ROUND(AVG(coalesce((v.salary_from + v.salary_to) / 2, v.salary_from, v.salary_to)), 0)\n",
    "\n",
    "            from vacancies v\n",
    "\n",
    "            WHERE\n",
    "            (\n",
    "                   (v.name ILIKE '%data scientist%')\n",
    "                OR (lower(v.name) ILIKE '%data science%')\n",
    "                OR (v.name ILIKE '%исследователь данных%')\n",
    "                OR (v.name  LIKE '%ML%' AND  (v.name NOT iLIKE '%html%'))\n",
    "                OR (v.name ILIKE '%machine learning%')\n",
    "                OR (v.name ILIKE '%машинн%обучен%')\n",
    "                AND (key_skills IS NOT NULL)\n",
    "            )\n",
    "\n",
    "            GROUP BY v.experience\n",
    "            ORDER BY 1\n",
    "            '''"
   ]
  },
  {
   "cell_type": "code",
   "execution_count": 10,
   "id": "aRIJ0mZEwU1_",
   "metadata": {
    "id": "aRIJ0mZEwU1_"
   },
   "outputs": [
    {
     "name": "stderr",
     "output_type": "stream",
     "text": [
      "C:\\Users\\vas98\\AppData\\Local\\Temp\\ipykernel_11552\\1726811850.py:2: UserWarning: pandas only supports SQLAlchemy connectable (engine/connection) or database string URI or sqlite3 DBAPI2 connection. Other DBAPI2 objects are not tested. Please consider using SQLAlchemy.\n",
      "  pd.read_sql(query_6_6, connection)\n"
     ]
    },
    {
     "data": {
      "text/html": [
       "<div>\n",
       "<style scoped>\n",
       "    .dataframe tbody tr th:only-of-type {\n",
       "        vertical-align: middle;\n",
       "    }\n",
       "\n",
       "    .dataframe tbody tr th {\n",
       "        vertical-align: top;\n",
       "    }\n",
       "\n",
       "    .dataframe thead th {\n",
       "        text-align: right;\n",
       "    }\n",
       "</style>\n",
       "<table border=\"1\" class=\"dataframe\">\n",
       "  <thead>\n",
       "    <tr style=\"text-align: right;\">\n",
       "      <th></th>\n",
       "      <th>experience</th>\n",
       "      <th>round</th>\n",
       "    </tr>\n",
       "  </thead>\n",
       "  <tbody>\n",
       "    <tr>\n",
       "      <th>0</th>\n",
       "      <td>Более 6 лет</td>\n",
       "      <td>NaN</td>\n",
       "    </tr>\n",
       "    <tr>\n",
       "      <th>1</th>\n",
       "      <td>Нет опыта</td>\n",
       "      <td>74643.0</td>\n",
       "    </tr>\n",
       "    <tr>\n",
       "      <th>2</th>\n",
       "      <td>От 1 года до 3 лет</td>\n",
       "      <td>145236.0</td>\n",
       "    </tr>\n",
       "    <tr>\n",
       "      <th>3</th>\n",
       "      <td>От 3 до 6 лет</td>\n",
       "      <td>243115.0</td>\n",
       "    </tr>\n",
       "  </tbody>\n",
       "</table>\n",
       "</div>"
      ],
      "text/plain": [
       "           experience     round\n",
       "0         Более 6 лет       NaN\n",
       "1           Нет опыта   74643.0\n",
       "2  От 1 года до 3 лет  145236.0\n",
       "3       От 3 до 6 лет  243115.0"
      ]
     },
     "execution_count": 10,
     "metadata": {},
     "output_type": "execute_result"
    }
   ],
   "source": [
    "# результат запроса\n",
    "pd.read_sql(query_6_6, connection)"
   ]
  },
  {
   "cell_type": "markdown",
   "id": "6a7892b4-4113-4746-adce-18aa2844f18e",
   "metadata": {
    "id": "6a7892b4-4113-4746-adce-18aa2844f18e"
   },
   "source": [
    "***"
   ]
  },
  {
   "cell_type": "markdown",
   "id": "7d057462",
   "metadata": {
    "id": "UjLWUptVwY1o"
   },
   "source": [
    "Выводы по предметному анализу\n",
    "1. К данным имеет отношение 4% вакансий.\n",
    "2. Доля вакансий, подходящих для начинающего дата-сайентиста: 0.1%.\n",
    "3. 229  вакансий для DS, в которых в качестве ключевого навыка указан SQL или postgres.\n",
    "4. 357 вакансий, у которых в качестве ключевого навыка указан Python.\n",
    "5. 6 ключевых навыков в среднем указывают в вакансиях для DS.\n",
    "6. Дата-сайентист с опытом работы от 3 до 6 лет в среднем может рассчитывать на зарплату 243115 руб. Это высшая из представленных по всем категориям зарплат."
   ]
  },
  {
   "cell_type": "markdown",
   "id": "c0ED6fh7wiBT",
   "metadata": {
    "id": "c0ED6fh7wiBT"
   },
   "source": [
    "# Доп. исследования"
   ]
  },
  {
   "cell_type": "code",
   "execution_count": null,
   "id": "h9B3BL-wwj18",
   "metadata": {
    "id": "h9B3BL-wwj18"
   },
   "outputs": [],
   "source": [
    "# подведем итог исследования, обобщите выводы\n",
    "# здесь можно (это будет плюсом) провести дополнительные исследования данных, сделать прогнозы, продумать варианты продолжения исследования"
   ]
  },
  {
   "cell_type": "markdown",
   "id": "988b97a9",
   "metadata": {},
   "source": [
    "Исследуем навыки для трудоустройства в Data science и сравним, какие навыки важнее: знание СУБД или Python."
   ]
  },
  {
   "cell_type": "markdown",
   "id": "6fd5b187",
   "metadata": {},
   "source": [
    "Вакансии с SQL/Postgres относительно других различных категорий вакансий:"
   ]
  },
  {
   "cell_type": "code",
   "execution_count": 32,
   "id": "abd12cd3",
   "metadata": {},
   "outputs": [
    {
     "name": "stderr",
     "output_type": "stream",
     "text": [
      "C:\\Users\\vas98\\AppData\\Local\\Temp\\ipykernel_11552\\1560501404.py:2: UserWarning: pandas only supports SQLAlchemy connectable (engine/connection) or database string URI or sqlite3 DBAPI2 connection. Other DBAPI2 objects are not tested. Please consider using SQLAlchemy.\n",
      "  print(' Доля вакансий с навыком SQL или postgres из всех вакансий: ' + str(round((pd.read_sql(query_6_3, connection)['count'][0]/pd.read_sql(query_3_1, connection).count_all_vacancies[0])*100, 2)) + '%\\n',\n",
      "C:\\Users\\vas98\\AppData\\Local\\Temp\\ipykernel_11552\\1560501404.py:5: UserWarning: pandas only supports SQLAlchemy connectable (engine/connection) or database string URI or sqlite3 DBAPI2 connection. Other DBAPI2 objects are not tested. Please consider using SQLAlchemy.\n",
      "  'Доля вакансий с навыком SQL или postgres из ИТ вакансий: ' + str(round((pd.read_sql(query_6_3, connection)['count'][0]/pd.read_sql(query_5_6, connection).po_cnt[0])*100, 2)) + '%\\n',\n",
      "C:\\Users\\vas98\\AppData\\Local\\Temp\\ipykernel_11552\\1560501404.py:8: UserWarning: pandas only supports SQLAlchemy connectable (engine/connection) or database string URI or sqlite3 DBAPI2 connection. Other DBAPI2 objects are not tested. Please consider using SQLAlchemy.\n",
      "  'Доля вакансий с навыком SQL или postgres из вакансий, относящихся к данным: ' + str(round((pd.read_sql(query_6_3, connection)['count'][0]/pd.read_sql(query_6_1, connection)['count'][0])*100, 2)) + '%\\n',\n",
      "C:\\Users\\vas98\\AppData\\Local\\Temp\\ipykernel_11552\\1560501404.py:11: UserWarning: pandas only supports SQLAlchemy connectable (engine/connection) or database string URI or sqlite3 DBAPI2 connection. Other DBAPI2 objects are not tested. Please consider using SQLAlchemy.\n",
      "  'Доля вакансий с навыком SQL или postgres из вакансий для дата-сайентиста: ' + str(round((pd.read_sql(query_6_3, connection)['count'][0]/pd.read_sql(query_ds, connection)['count'][0])*100, 2)) + '%\\n',\n"
     ]
    },
    {
     "name": "stdout",
     "output_type": "stream",
     "text": [
      " Доля вакансий с навыком SQL или postgres из всех вакансий: 0.47%\n",
      " Доля вакансий с навыком SQL или postgres из ИТ вакансий: 6.45%\n",
      " Доля вакансий с навыком SQL или postgres из вакансий, относящихся к данным: 12.93%\n",
      " Доля вакансий с навыком SQL или postgres из вакансий для дата-сайентиста: 42.72%\n",
      "\n"
     ]
    },
    {
     "name": "stderr",
     "output_type": "stream",
     "text": [
      "C:\\Users\\vas98\\AppData\\Local\\Temp\\ipykernel_11552\\1560501404.py:15: UserWarning: pandas only supports SQLAlchemy connectable (engine/connection) or database string URI or sqlite3 DBAPI2 connection. Other DBAPI2 objects are not tested. Please consider using SQLAlchemy.\n",
      "  print(' Доля вакансий с навыком Python из всех вакансий: ' + str(round((pd.read_sql(query_6_4, connection)['count'][0]/pd.read_sql(query_3_1, connection).count_all_vacancies[0])*100, 2)) + '%\\n',\n",
      "C:\\Users\\vas98\\AppData\\Local\\Temp\\ipykernel_11552\\1560501404.py:18: UserWarning: pandas only supports SQLAlchemy connectable (engine/connection) or database string URI or sqlite3 DBAPI2 connection. Other DBAPI2 objects are not tested. Please consider using SQLAlchemy.\n",
      "  'Доля вакансий с навыком Python из ИТ вакансий: ' + str(round((pd.read_sql(query_6_4, connection)['count'][0]/pd.read_sql(query_5_6, connection).po_cnt[0])*100, 2)) + '%\\n',\n",
      "C:\\Users\\vas98\\AppData\\Local\\Temp\\ipykernel_11552\\1560501404.py:21: UserWarning: pandas only supports SQLAlchemy connectable (engine/connection) or database string URI or sqlite3 DBAPI2 connection. Other DBAPI2 objects are not tested. Please consider using SQLAlchemy.\n",
      "  'Доля вакансий с навыком Python из вакансий, относящихся к данным: ' + str(round((pd.read_sql(query_6_4, connection)['count'][0]/pd.read_sql(query_6_1, connection)['count'][0])*100, 2)) + '%\\n',\n",
      "C:\\Users\\vas98\\AppData\\Local\\Temp\\ipykernel_11552\\1560501404.py:24: UserWarning: pandas only supports SQLAlchemy connectable (engine/connection) or database string URI or sqlite3 DBAPI2 connection. Other DBAPI2 objects are not tested. Please consider using SQLAlchemy.\n",
      "  'Доля вакансий с навыком Python из вакансий для дата-сайентиста: ' + str(round((pd.read_sql(query_6_4, connection)['count'][0]/pd.read_sql(query_ds, connection)['count'][0])*100, 2)) + '%\\n\\n',\n",
      "C:\\Users\\vas98\\AppData\\Local\\Temp\\ipykernel_11552\\1560501404.py:29: UserWarning: pandas only supports SQLAlchemy connectable (engine/connection) or database string URI or sqlite3 DBAPI2 connection. Other DBAPI2 objects are not tested. Please consider using SQLAlchemy.\n",
      "  'Доля вакансий с навыком Python по отношению к вакансиям с навыками SQL или Postgres: ' + str(round((pd.read_sql(query_6_4, connection)['count'][0]/pd.read_sql(query_6_3, connection)['count'][0])*100, 2)) + '%'\n"
     ]
    },
    {
     "name": "stdout",
     "output_type": "stream",
     "text": [
      " Доля вакансий с навыком Python из всех вакансий: 0.73%\n",
      " Доля вакансий с навыком Python из ИТ вакансий: 10.05%\n",
      " Доля вакансий с навыком Python из вакансий, относящихся к данным: 20.16%\n",
      " Доля вакансий с навыком Python из вакансий для дата-сайентиста: 66.6%\n",
      "\n",
      " Доля вакансий с навыком Python по отношению к вакансиям с навыками SQL или Postgres: 155.9%\n"
     ]
    }
   ],
   "source": [
    "# Доля вакансий с навыком SQL или postgres из всех вакансий:\n",
    "print(' Доля вакансий с навыком SQL или postgres из всех вакансий: ' + str(round((pd.read_sql(query_6_3, connection)['count'][0]/pd.read_sql(query_3_1, connection).count_all_vacancies[0])*100, 2)) + '%\\n',\n",
    "\n",
    "# Доля вакансий с навыком SQL или postgres из ИТ вакансий:\n",
    "'Доля вакансий с навыком SQL или postgres из ИТ вакансий: ' + str(round((pd.read_sql(query_6_3, connection)['count'][0]/pd.read_sql(query_5_6, connection).po_cnt[0])*100, 2)) + '%\\n',\n",
    "\n",
    "# Доля вакансий с навыком SQL или postgres из вакансий, относящихся к данным:\n",
    "'Доля вакансий с навыком SQL или postgres из вакансий, относящихся к данным: ' + str(round((pd.read_sql(query_6_3, connection)['count'][0]/pd.read_sql(query_6_1, connection)['count'][0])*100, 2)) + '%\\n',\n",
    "\n",
    "# Доля вакансий с навыком SQL или postgres из вакансий для (не только начинающего) дата-сайентиста:\n",
    "'Доля вакансий с навыком SQL или postgres из вакансий для дата-сайентиста: ' + str(round((pd.read_sql(query_6_3, connection)['count'][0]/pd.read_sql(query_ds, connection)['count'][0])*100, 2)) + '%\\n',\n",
    "     )\n",
    "\n",
    "# Доля вакансий с навыком Python из всех вакансий:\n",
    "print(' Доля вакансий с навыком Python из всех вакансий: ' + str(round((pd.read_sql(query_6_4, connection)['count'][0]/pd.read_sql(query_3_1, connection).count_all_vacancies[0])*100, 2)) + '%\\n',\n",
    "\n",
    "# Доля вакансий с навыком Python из ИТ вакансий:\n",
    "'Доля вакансий с навыком Python из ИТ вакансий: ' + str(round((pd.read_sql(query_6_4, connection)['count'][0]/pd.read_sql(query_5_6, connection).po_cnt[0])*100, 2)) + '%\\n',\n",
    "\n",
    "# Доля вакансий с навыком Python из вакансий, относящихся к данным:\n",
    "'Доля вакансий с навыком Python из вакансий, относящихся к данным: ' + str(round((pd.read_sql(query_6_4, connection)['count'][0]/pd.read_sql(query_6_1, connection)['count'][0])*100, 2)) + '%\\n',\n",
    "\n",
    "# Доля вакансий с навыком Python из вакансий для (не только начинающего) дата-сайентиста:\n",
    "'Доля вакансий с навыком Python из вакансий для дата-сайентиста: ' + str(round((pd.read_sql(query_6_4, connection)['count'][0]/pd.read_sql(query_ds, connection)['count'][0])*100, 2)) + '%\\n\\n',\n",
    "\n",
    "\n",
    "      \n",
    "# Доля вакансий с навыком Python по отношению к вакансиям с навыками SQL или Postgres:\n",
    "'Доля вакансий с навыком Python по отношению к вакансиям с навыками SQL или Postgres: ' + str(round((pd.read_sql(query_6_4, connection)['count'][0]/pd.read_sql(query_6_3, connection)['count'][0])*100, 2)) + '%'\n",
    "     )"
   ]
  },
  {
   "cell_type": "markdown",
   "id": "dcedc01d",
   "metadata": {},
   "source": [
    "Вывод: python чаще требуется во всех множествах вакансий."
   ]
  },
  {
   "cell_type": "markdown",
   "id": "1cc48654",
   "metadata": {},
   "source": [
    "Другой интересный вопрос: какие ключевые навыки наиболее часто требуются в вакансиях для DS?"
   ]
  },
  {
   "cell_type": "code",
   "execution_count": 33,
   "id": "66a07796",
   "metadata": {},
   "outputs": [],
   "source": [
    "query_dskils = f'''       \n",
    "            SELECT STRING_TO_ARRAY(key_skills, '\\t')\n",
    "            FROM\n",
    "            vacancies \n",
    "            WHERE\n",
    "            ( name ILIKE '%data scientist%' OR \n",
    "              name ILIKE '%data science%' OR \n",
    "              name ILIKE '%исследователь данных%' OR \n",
    "              name ILIKE '%machine learning%' OR \n",
    "              name ILIKE '%машинн%обучен%' OR \n",
    "              name LIKE '%ML%' AND name NOT ILIKE '%HTML%' )\n",
    "            '''"
   ]
  },
  {
   "cell_type": "code",
   "execution_count": 41,
   "id": "bc9fe834",
   "metadata": {},
   "outputs": [
    {
     "name": "stderr",
     "output_type": "stream",
     "text": [
      "C:\\Users\\vas98\\AppData\\Local\\Temp\\ipykernel_11552\\2558799756.py:2: UserWarning: pandas only supports SQLAlchemy connectable (engine/connection) or database string URI or sqlite3 DBAPI2 connection. Other DBAPI2 objects are not tested. Please consider using SQLAlchemy.\n",
      "  dskils = pd.read_sql(query_dskils, connection)\n"
     ]
    }
   ],
   "source": [
    "# результат запроса\n",
    "dskils = pd.read_sql(query_dskils, connection)"
   ]
  },
  {
   "cell_type": "code",
   "execution_count": 58,
   "id": "c54a823e",
   "metadata": {},
   "outputs": [
    {
     "data": {
      "text/plain": [
       "string_to_array\n",
       "Python                          348\n",
       "SQL                             191\n",
       "Machine Learning                114\n",
       "Git                              66\n",
       "Математическая статистика        62\n",
       "Data Analysis                    54\n",
       "Data Science                     52\n",
       "Pandas                           52\n",
       "ML                               49\n",
       "Английский язык                  48\n",
       "Linux                            47\n",
       "Анализ данных                    46\n",
       "PyTorch                          46\n",
       "Big Data                         42\n",
       "Математическое моделирование     41\n",
       "Статистический анализ            40\n",
       "NLP                              40\n",
       "C++                              39\n",
       "Spark                            38\n",
       "Tensorflow                       35\n",
       "Numpy                            34\n",
       "Hadoop                           33\n",
       "Машинное обучение                31\n",
       "Docker                           30\n",
       "Математический анализ            29\n",
       "Java                             28\n",
       "Аналитическое мышление           25\n",
       "Deep Learning                    22\n",
       "ООП                              22\n",
       "MS PowerPoint                    22\n",
       "Name: count, dtype: int64"
      ]
     },
     "execution_count": 58,
     "metadata": {},
     "output_type": "execute_result"
    }
   ],
   "source": [
    "dskils.explode('string_to_array')['string_to_array'].value_counts()[:30]"
   ]
  },
  {
   "cell_type": "code",
   "execution_count": 57,
   "id": "48455d00",
   "metadata": {},
   "outputs": [
    {
     "data": {
      "text/plain": [
       "<Axes: xlabel='string_to_array'>"
      ]
     },
     "execution_count": 57,
     "metadata": {},
     "output_type": "execute_result"
    },
    {
     "data": {
      "image/png": "[encoded data removed]",
      "text/plain": [
       "<Figure size 640x480 with 1 Axes>"
      ]
     },
     "metadata": {},
     "output_type": "display_data"
    }
   ],
   "source": [
    "dskils.explode('string_to_array')['string_to_array'].value_counts()[:10].plot.bar()"
   ]
  },
  {
   "cell_type": "markdown",
   "id": "a87d572d",
   "metadata": {},
   "source": [
    "Итак, чаще всего требуются (выделил жирным более конкретные навыки): \n",
    "1. **Python**                      348\n",
    "2. **SQL**                         191\n",
    "3. Machine Learning                114\n",
    "4. **Git**                          66\n",
    "5. **Математическая статистика**    62\n",
    "6. Data Analysis                    54\n",
    "7. Data Science                     52\n",
    "8. **Pandas**                       52\n",
    "9. ML                               49\n",
    "10. **Английский язык**             48"
   ]
  },
  {
   "cell_type": "markdown",
   "id": "aff083d4",
   "metadata": {},
   "source": [
    "Теперь интересно узнать, у каких категорий по опыту работы  наиболее высокая зарплата."
   ]
  },
  {
   "cell_type": "code",
   "execution_count": 73,
   "id": "a01d6a37",
   "metadata": {},
   "outputs": [],
   "source": [
    "query_max_salary = f'''\n",
    "            select\n",
    "            v.experience, MAX(v.salary_from), MAX(v.salary_to)\n",
    "\n",
    "            from vacancies v\n",
    "\n",
    "            WHERE\n",
    "            (\n",
    "                   (v.name ILIKE '%data scientist%')\n",
    "                OR (lower(v.name) ILIKE '%data science%')\n",
    "                OR (v.name ILIKE '%исследователь данных%')\n",
    "                OR (v.name  LIKE '%ML%' AND  (v.name NOT iLIKE '%html%'))\n",
    "                OR (v.name ILIKE '%machine learning%')\n",
    "                OR (v.name ILIKE '%машинн%обучен%')\n",
    "                AND (key_skills IS NOT NULL)\n",
    "            )\n",
    "\n",
    "            GROUP BY v.experience\n",
    "            ORDER BY 1\n",
    "            '''"
   ]
  },
  {
   "cell_type": "code",
   "execution_count": 74,
   "id": "79128dee",
   "metadata": {},
   "outputs": [
    {
     "name": "stderr",
     "output_type": "stream",
     "text": [
      "C:\\Users\\vas98\\AppData\\Local\\Temp\\ipykernel_11552\\2709682745.py:1: UserWarning: pandas only supports SQLAlchemy connectable (engine/connection) or database string URI or sqlite3 DBAPI2 connection. Other DBAPI2 objects are not tested. Please consider using SQLAlchemy.\n",
      "  pd.read_sql(query_max_salary, connection)\n"
     ]
    },
    {
     "data": {
      "text/html": [
       "<div>\n",
       "<style scoped>\n",
       "    .dataframe tbody tr th:only-of-type {\n",
       "        vertical-align: middle;\n",
       "    }\n",
       "\n",
       "    .dataframe tbody tr th {\n",
       "        vertical-align: top;\n",
       "    }\n",
       "\n",
       "    .dataframe thead th {\n",
       "        text-align: right;\n",
       "    }\n",
       "</style>\n",
       "<table border=\"1\" class=\"dataframe\">\n",
       "  <thead>\n",
       "    <tr style=\"text-align: right;\">\n",
       "      <th></th>\n",
       "      <th>experience</th>\n",
       "      <th>max</th>\n",
       "      <th>max</th>\n",
       "    </tr>\n",
       "  </thead>\n",
       "  <tbody>\n",
       "    <tr>\n",
       "      <th>0</th>\n",
       "      <td>Более 6 лет</td>\n",
       "      <td>NaN</td>\n",
       "      <td>NaN</td>\n",
       "    </tr>\n",
       "    <tr>\n",
       "      <th>1</th>\n",
       "      <td>Нет опыта</td>\n",
       "      <td>80000.0</td>\n",
       "      <td>150000.0</td>\n",
       "    </tr>\n",
       "    <tr>\n",
       "      <th>2</th>\n",
       "      <td>От 1 года до 3 лет</td>\n",
       "      <td>250000.0</td>\n",
       "      <td>350000.0</td>\n",
       "    </tr>\n",
       "    <tr>\n",
       "      <th>3</th>\n",
       "      <td>От 3 до 6 лет</td>\n",
       "      <td>300000.0</td>\n",
       "      <td>700000.0</td>\n",
       "    </tr>\n",
       "  </tbody>\n",
       "</table>\n",
       "</div>"
      ],
      "text/plain": [
       "           experience       max       max\n",
       "0         Более 6 лет       NaN       NaN\n",
       "1           Нет опыта   80000.0  150000.0\n",
       "2  От 1 года до 3 лет  250000.0  350000.0\n",
       "3       От 3 до 6 лет  300000.0  700000.0"
      ]
     },
     "execution_count": 74,
     "metadata": {},
     "output_type": "execute_result"
    }
   ],
   "source": [
    "pd.read_sql(query_max_salary, connection)"
   ]
  },
  {
   "cell_type": "markdown",
   "id": "3443d15e",
   "metadata": {},
   "source": [
    "Рассмотрим, почему в вакансиях с требованием по опыту \"Более 6 лет\" при группировке выдаётся NaN. Для этого рассмотрим эти вакансии без агрегации"
   ]
  },
  {
   "cell_type": "code",
   "execution_count": 75,
   "id": "7798c4ff",
   "metadata": {},
   "outputs": [],
   "source": [
    "query_salary = f'''\n",
    "            select\n",
    "            v.experience, v.salary_from, v.salary_to\n",
    "\n",
    "            from vacancies v\n",
    "\n",
    "            WHERE\n",
    "            (\n",
    "                   (v.name ILIKE '%data scientist%')\n",
    "                OR (lower(v.name) ILIKE '%data science%')\n",
    "                OR (v.name ILIKE '%исследователь данных%')\n",
    "                OR (v.name  LIKE '%ML%' AND  (v.name NOT iLIKE '%html%'))\n",
    "                OR (v.name ILIKE '%machine learning%')\n",
    "                OR (v.name ILIKE '%машинн%обучен%')\n",
    "                AND (key_skills IS NOT NULL)\n",
    "            )\n",
    "            '''"
   ]
  },
  {
   "cell_type": "code",
   "execution_count": 77,
   "id": "1cd6ae20",
   "metadata": {},
   "outputs": [
    {
     "name": "stderr",
     "output_type": "stream",
     "text": [
      "C:\\Users\\vas98\\AppData\\Local\\Temp\\ipykernel_11552\\2553038312.py:1: UserWarning: pandas only supports SQLAlchemy connectable (engine/connection) or database string URI or sqlite3 DBAPI2 connection. Other DBAPI2 objects are not tested. Please consider using SQLAlchemy.\n",
      "  all_ds = pd.read_sql(query_salary, connection)\n"
     ]
    }
   ],
   "source": [
    "all_ds = pd.read_sql(query_salary, connection)"
   ]
  },
  {
   "cell_type": "code",
   "execution_count": 79,
   "id": "30ee3bf5",
   "metadata": {},
   "outputs": [
    {
     "data": {
      "text/html": [
       "<div>\n",
       "<style scoped>\n",
       "    .dataframe tbody tr th:only-of-type {\n",
       "        vertical-align: middle;\n",
       "    }\n",
       "\n",
       "    .dataframe tbody tr th {\n",
       "        vertical-align: top;\n",
       "    }\n",
       "\n",
       "    .dataframe thead th {\n",
       "        text-align: right;\n",
       "    }\n",
       "</style>\n",
       "<table border=\"1\" class=\"dataframe\">\n",
       "  <thead>\n",
       "    <tr style=\"text-align: right;\">\n",
       "      <th></th>\n",
       "      <th>experience</th>\n",
       "      <th>salary_from</th>\n",
       "      <th>salary_to</th>\n",
       "    </tr>\n",
       "  </thead>\n",
       "  <tbody>\n",
       "    <tr>\n",
       "      <th>86</th>\n",
       "      <td>Более 6 лет</td>\n",
       "      <td>NaN</td>\n",
       "      <td>NaN</td>\n",
       "    </tr>\n",
       "    <tr>\n",
       "      <th>87</th>\n",
       "      <td>Более 6 лет</td>\n",
       "      <td>NaN</td>\n",
       "      <td>NaN</td>\n",
       "    </tr>\n",
       "    <tr>\n",
       "      <th>88</th>\n",
       "      <td>Более 6 лет</td>\n",
       "      <td>NaN</td>\n",
       "      <td>NaN</td>\n",
       "    </tr>\n",
       "    <tr>\n",
       "      <th>89</th>\n",
       "      <td>Более 6 лет</td>\n",
       "      <td>NaN</td>\n",
       "      <td>NaN</td>\n",
       "    </tr>\n",
       "    <tr>\n",
       "      <th>90</th>\n",
       "      <td>Более 6 лет</td>\n",
       "      <td>NaN</td>\n",
       "      <td>NaN</td>\n",
       "    </tr>\n",
       "    <tr>\n",
       "      <th>91</th>\n",
       "      <td>Более 6 лет</td>\n",
       "      <td>NaN</td>\n",
       "      <td>NaN</td>\n",
       "    </tr>\n",
       "    <tr>\n",
       "      <th>92</th>\n",
       "      <td>Более 6 лет</td>\n",
       "      <td>NaN</td>\n",
       "      <td>NaN</td>\n",
       "    </tr>\n",
       "    <tr>\n",
       "      <th>93</th>\n",
       "      <td>Более 6 лет</td>\n",
       "      <td>NaN</td>\n",
       "      <td>NaN</td>\n",
       "    </tr>\n",
       "    <tr>\n",
       "      <th>94</th>\n",
       "      <td>Более 6 лет</td>\n",
       "      <td>NaN</td>\n",
       "      <td>NaN</td>\n",
       "    </tr>\n",
       "    <tr>\n",
       "      <th>95</th>\n",
       "      <td>Более 6 лет</td>\n",
       "      <td>NaN</td>\n",
       "      <td>NaN</td>\n",
       "    </tr>\n",
       "    <tr>\n",
       "      <th>96</th>\n",
       "      <td>Более 6 лет</td>\n",
       "      <td>NaN</td>\n",
       "      <td>NaN</td>\n",
       "    </tr>\n",
       "    <tr>\n",
       "      <th>97</th>\n",
       "      <td>Более 6 лет</td>\n",
       "      <td>NaN</td>\n",
       "      <td>NaN</td>\n",
       "    </tr>\n",
       "    <tr>\n",
       "      <th>98</th>\n",
       "      <td>Более 6 лет</td>\n",
       "      <td>NaN</td>\n",
       "      <td>NaN</td>\n",
       "    </tr>\n",
       "    <tr>\n",
       "      <th>99</th>\n",
       "      <td>Более 6 лет</td>\n",
       "      <td>NaN</td>\n",
       "      <td>NaN</td>\n",
       "    </tr>\n",
       "    <tr>\n",
       "      <th>133</th>\n",
       "      <td>Более 6 лет</td>\n",
       "      <td>NaN</td>\n",
       "      <td>NaN</td>\n",
       "    </tr>\n",
       "    <tr>\n",
       "      <th>134</th>\n",
       "      <td>Более 6 лет</td>\n",
       "      <td>NaN</td>\n",
       "      <td>NaN</td>\n",
       "    </tr>\n",
       "    <tr>\n",
       "      <th>135</th>\n",
       "      <td>Более 6 лет</td>\n",
       "      <td>NaN</td>\n",
       "      <td>NaN</td>\n",
       "    </tr>\n",
       "    <tr>\n",
       "      <th>136</th>\n",
       "      <td>Более 6 лет</td>\n",
       "      <td>NaN</td>\n",
       "      <td>NaN</td>\n",
       "    </tr>\n",
       "    <tr>\n",
       "      <th>137</th>\n",
       "      <td>Более 6 лет</td>\n",
       "      <td>NaN</td>\n",
       "      <td>NaN</td>\n",
       "    </tr>\n",
       "    <tr>\n",
       "      <th>138</th>\n",
       "      <td>Более 6 лет</td>\n",
       "      <td>NaN</td>\n",
       "      <td>NaN</td>\n",
       "    </tr>\n",
       "    <tr>\n",
       "      <th>156</th>\n",
       "      <td>Более 6 лет</td>\n",
       "      <td>NaN</td>\n",
       "      <td>NaN</td>\n",
       "    </tr>\n",
       "    <tr>\n",
       "      <th>157</th>\n",
       "      <td>Более 6 лет</td>\n",
       "      <td>NaN</td>\n",
       "      <td>NaN</td>\n",
       "    </tr>\n",
       "    <tr>\n",
       "      <th>244</th>\n",
       "      <td>Более 6 лет</td>\n",
       "      <td>NaN</td>\n",
       "      <td>NaN</td>\n",
       "    </tr>\n",
       "    <tr>\n",
       "      <th>302</th>\n",
       "      <td>Более 6 лет</td>\n",
       "      <td>NaN</td>\n",
       "      <td>NaN</td>\n",
       "    </tr>\n",
       "    <tr>\n",
       "      <th>341</th>\n",
       "      <td>Более 6 лет</td>\n",
       "      <td>NaN</td>\n",
       "      <td>NaN</td>\n",
       "    </tr>\n",
       "    <tr>\n",
       "      <th>358</th>\n",
       "      <td>Более 6 лет</td>\n",
       "      <td>NaN</td>\n",
       "      <td>NaN</td>\n",
       "    </tr>\n",
       "    <tr>\n",
       "      <th>362</th>\n",
       "      <td>Более 6 лет</td>\n",
       "      <td>NaN</td>\n",
       "      <td>NaN</td>\n",
       "    </tr>\n",
       "    <tr>\n",
       "      <th>363</th>\n",
       "      <td>Более 6 лет</td>\n",
       "      <td>NaN</td>\n",
       "      <td>NaN</td>\n",
       "    </tr>\n",
       "    <tr>\n",
       "      <th>367</th>\n",
       "      <td>Более 6 лет</td>\n",
       "      <td>NaN</td>\n",
       "      <td>NaN</td>\n",
       "    </tr>\n",
       "    <tr>\n",
       "      <th>387</th>\n",
       "      <td>Более 6 лет</td>\n",
       "      <td>NaN</td>\n",
       "      <td>NaN</td>\n",
       "    </tr>\n",
       "    <tr>\n",
       "      <th>388</th>\n",
       "      <td>Более 6 лет</td>\n",
       "      <td>NaN</td>\n",
       "      <td>NaN</td>\n",
       "    </tr>\n",
       "    <tr>\n",
       "      <th>389</th>\n",
       "      <td>Более 6 лет</td>\n",
       "      <td>NaN</td>\n",
       "      <td>NaN</td>\n",
       "    </tr>\n",
       "    <tr>\n",
       "      <th>390</th>\n",
       "      <td>Более 6 лет</td>\n",
       "      <td>NaN</td>\n",
       "      <td>NaN</td>\n",
       "    </tr>\n",
       "    <tr>\n",
       "      <th>417</th>\n",
       "      <td>Более 6 лет</td>\n",
       "      <td>NaN</td>\n",
       "      <td>NaN</td>\n",
       "    </tr>\n",
       "  </tbody>\n",
       "</table>\n",
       "</div>"
      ],
      "text/plain": [
       "      experience  salary_from  salary_to\n",
       "86   Более 6 лет          NaN        NaN\n",
       "87   Более 6 лет          NaN        NaN\n",
       "88   Более 6 лет          NaN        NaN\n",
       "89   Более 6 лет          NaN        NaN\n",
       "90   Более 6 лет          NaN        NaN\n",
       "91   Более 6 лет          NaN        NaN\n",
       "92   Более 6 лет          NaN        NaN\n",
       "93   Более 6 лет          NaN        NaN\n",
       "94   Более 6 лет          NaN        NaN\n",
       "95   Более 6 лет          NaN        NaN\n",
       "96   Более 6 лет          NaN        NaN\n",
       "97   Более 6 лет          NaN        NaN\n",
       "98   Более 6 лет          NaN        NaN\n",
       "99   Более 6 лет          NaN        NaN\n",
       "133  Более 6 лет          NaN        NaN\n",
       "134  Более 6 лет          NaN        NaN\n",
       "135  Более 6 лет          NaN        NaN\n",
       "136  Более 6 лет          NaN        NaN\n",
       "137  Более 6 лет          NaN        NaN\n",
       "138  Более 6 лет          NaN        NaN\n",
       "156  Более 6 лет          NaN        NaN\n",
       "157  Более 6 лет          NaN        NaN\n",
       "244  Более 6 лет          NaN        NaN\n",
       "302  Более 6 лет          NaN        NaN\n",
       "341  Более 6 лет          NaN        NaN\n",
       "358  Более 6 лет          NaN        NaN\n",
       "362  Более 6 лет          NaN        NaN\n",
       "363  Более 6 лет          NaN        NaN\n",
       "367  Более 6 лет          NaN        NaN\n",
       "387  Более 6 лет          NaN        NaN\n",
       "388  Более 6 лет          NaN        NaN\n",
       "389  Более 6 лет          NaN        NaN\n",
       "390  Более 6 лет          NaN        NaN\n",
       "417  Более 6 лет          NaN        NaN"
      ]
     },
     "execution_count": 79,
     "metadata": {},
     "output_type": "execute_result"
    }
   ],
   "source": [
    "# Посмотрим, есть ли хоть одно поле с заполненной зарплатой\n",
    "all_ds[all_ds['experience']=='Более 6 лет']"
   ]
  },
  {
   "cell_type": "markdown",
   "id": "f42ab960",
   "metadata": {},
   "source": [
    "Результат проверки: ни в одной вакансии по DS с опытом \"Более 6 лет\" зарплата не указана"
   ]
  },
  {
   "cell_type": "markdown",
   "id": "e2a893cc",
   "metadata": {},
   "source": [
    "---"
   ]
  },
  {
   "cell_type": "markdown",
   "id": "53b95e5f",
   "metadata": {},
   "source": [
    "# Общий вывод по проекту"
   ]
  },
  {
   "cell_type": "markdown",
   "id": "f9a4f3bc",
   "metadata": {},
   "source": [
    "В предварительном анализе данных:   \n",
    "1.  Среди работадателей присутствуют большие компании\n",
    "2.  В БД представлены не только российские вакансии. Кроме того, регионы из табл. areas это не только регионы, но и страны, а также города. Поэтому  насчёт некоторых регионов создаётся необъективная картина: в России не представлено вакансий, но на самом деле в её регионах и городах есть вакансии."
   ]
  },
  {
   "cell_type": "markdown",
   "id": "791f784a",
   "metadata": {},
   "source": [
    "---"
   ]
  },
  {
   "cell_type": "markdown",
   "id": "d9d1664b",
   "metadata": {},
   "source": [
    "В детальном анализе вакансий:   \n",
    "1. Больше всего вакансий в столице РФ, крупных российских городах и столицах других стран.\n",
    "2. Поле с зарплатой заполнено в половине вакансий - это довольно мало.\n",
    "3. Средняя ЗП исходя из зарплатной вилки немного выше чем средняя ЗП по России. Скорее всего из-за иностранных вакансий.\n",
    "4.  Чаще всего требуется тип трудоустройства - \"полная занятость\" и тип рабочего графика - \"полный день работы\".\n",
    "5. Реже всего требуются сотрудники с опытом более 6 лет; чаще всего - с опытом от 1-го года до 3-х лет.\n",
    "\n",
    "Полезные выводы для нас (студентов SkillFactory): легче всего искать работу в крупном городе, предполагающую полный день работы и полную занятость и если у вас стаж от 1-го до 3-х лет по данной специальности."
   ]
  },
  {
   "cell_type": "markdown",
   "id": "28657f12",
   "metadata": {},
   "source": [
    "---"
   ]
  },
  {
   "cell_type": "markdown",
   "id": "c53435e4",
   "metadata": {},
   "source": [
    "В анализе работодателей:\n",
    "1. Первые 5 мест по количеству публикуемых вакансий занимают работадатели: Яндекс (1933), Ростелеком (491), Тинькофф (444),СБЕР (428), Газпром нефть (331). При чём Яндекс по количеству вакансий значительно превышает другие компании.\n",
    "2. Среди регионов, в которых нет вакансий, в России наибольшее количество работодателей. Как уже было написано, это не совсем объективная картина - в городах и регионах России есть вакансии.\n",
    "3. По количеству регионов, в которых работадатели размещают вакансии, первые 5 мест занимают те же компании, которые занимают первые места по количеству публикуемых вакансий: Яндекс, Ростелеком, Тинькофф, СБЕР, Газпром нефть.\n",
    "4. 36% - доля компаний, у которых не указана сфера деятельности.\n",
    "5. У некоторых компаний указано несколько сфер деятельности, например, 2ГИС\n",
    "6. Разработка ПО как сфера деятельности указана у 15% работодателей.\n",
    "7. Вакансий Яндекса в городах-миллионниках 1% из всех вакансий. Несмотря на то, что вакансий у Яндекса намного больше, чем у других компаний, в процентном отношении это немного.  \n",
    "  \n",
    "  \n",
    "Полезные выводы для нас (студентов SkillFactory): в топ-5 по количеству вакансий и по количеству регионов, в которых они публикуются, попадают компании, связанные с информационными технологиями (Газпром нефть также заинтересована в ИТ-специалистах: https://career.gazprom-neft.ru/vacancies/?spec=213,211,207,214,208,216,209,212,215,217,218,210).  \n",
    "Яндекс публикует наибольшее количество вакансий.  \n",
    "Разработка ПО указана в 15% вакансий - это немало.  \n",
    "Опираясь на представленные данные, можно сделать вывод, что у выпускника SkillFactory в любом случае есть большой шанс найти работу."
   ]
  },
  {
   "cell_type": "markdown",
   "id": "3cc35100",
   "metadata": {},
   "source": [
    "---"
   ]
  },
  {
   "cell_type": "markdown",
   "id": "46868908",
   "metadata": {},
   "source": [
    "В предметном анализе:  \n",
    "1. К данным имеет отношение 4% вакансий. \n",
    "2. Доля вакансий, подходящих для начинающего дата-сайентиста: 0.1%.\n",
    "3. 229 вакансий для DS, в которых в качестве ключевого навыка указан SQL или postgres.\n",
    "4. 357 вакансий, у которых в качестве ключевого навыка указан Python.\n",
    "5. 6 ключевых навыков в среднем указывают в вакансиях для DS.\n",
    "6. Дата-сайентист с опытом работы от 3 до 6 лет в среднем может рассчитывать на зарплату 243115 руб.  \n",
    "  \n",
    "Полезные выводы для нас (студентов SkillFactory): целых 4% вакансий, относящихся к данным, указывает на то, что работа в сфере данных востребована. Начинающему дата-сайентисту без опыта работы нужно найти подходящую вакансию из 0.1% вакансий, проработать 3-6 лет и можно искать новую работу с зарплатой около 240000 (если представить, что спрос на дата-сайентистов за 3-6 лет не изменится и нет инфляции).\n",
    "  \n",
    "В любом случае, согласно этим данным, у дата-сайентистов хорошие возможности для трудоустройства и заработка денег."
   ]
  },
  {
   "cell_type": "markdown",
   "id": "0fd4fee8",
   "metadata": {},
   "source": [
    "---"
   ]
  },
  {
   "cell_type": "markdown",
   "id": "15b76b32",
   "metadata": {},
   "source": [
    "В доп. исследованиях:  \n",
    "1. Доля вакансий с навыком SQL или postgres:  \n",
    "1.1 из всех вакансий: 0.47%  \n",
    "1.2 из ИТ вакансий: 6.45%  \n",
    "1.3 из вакансий, относящихся к данным: 12.93%  \n",
    "1.4  из вакансий для дата-сайентиста: 42.72%  \n",
    "2.  Доля вакансий с навыком Python:  \n",
    "2.1  из всех вакансий: 0.73%  \n",
    "2.2  из ИТ вакансий: 10.05%  \n",
    "2.3  из вакансий, относящихся к данным: 20.16%  \n",
    "2.4  из вакансий для дата-сайентиста: 66.6%  \n",
    "2.5  по отношению к вакансиям с навыками SQL или Postgres: 155.9%  \n",
    "3. Чаще всего дата-сайентисту требуются навыки:  \n",
    "3.1 Более конкретно сформулированные: Python (348), SQL (191), Git (66), Математическая статистика (62), Pandas (52), Английский язык (48)  \n",
    "3.2 Менее конкретно сформулированные: Machine Learning (114), Data Analysis (54), Data Science (52), ML (49)  \n",
    "4. Самая высокая зарплата дата-сайентиста: \t700000 рублей  \n",
    "5. В вакансиях data science со стажем больше 6 лет вообще не указана зарплата.  \n",
    "\n",
    "Полезные выводы для нас: Python, SQL/Postgres оказались очень востребованы в вакансиях для дата-сайентистов. Всё, что включено в курс от SkillFactory (Python , SQL, Git и др) оказалось наиболее востребовано в вакансиях. Согласно данным, дата-сайентисту не обязательно самостоятельно пытаться изучать всё что связано с анализом данных чтобы быть универсальным специалистом (напр., Excel, Docker, Linux, язык для анализа данных R, BI-платформы, ETL-инструменты и др.). Можно сконцентрироваться на изучении перечисленных навыков.  \n",
    "Если стать очень хорошим специалистом можно получать даже 700000 рублей."
   ]
  }
 ],
 "metadata": {
  "colab": {
   "collapsed_sections": [
    "8d62a9f3-f64e-4fe7-bdac-c4dffa16155e"
   ],
   "provenance": []
  },
  "kernelspec": {
   "display_name": "Python 3 (ipykernel)",
   "language": "python",
   "name": "python3"
  },
  "language_info": {
   "codemirror_mode": {
    "name": "ipython",
    "version": 3
   },
   "file_extension": ".py",
   "mimetype": "text/x-python",
   "name": "python",
   "nbconvert_exporter": "python",
   "pygments_lexer": "ipython3",
   "version": "3.11.5"
  }
 },
 "nbformat": 4,
 "nbformat_minor": 5
}
